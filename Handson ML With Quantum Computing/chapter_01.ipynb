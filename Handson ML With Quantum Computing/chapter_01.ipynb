{
 "cells": [
  {
   "cell_type": "markdown",
   "metadata": {},
   "source": [
    "# Chapter 1\n",
    "\n",
    "## Section 1.8.5 Configuring Ubuntu For QuantumMachine Learning with Python\n",
    "\n",
    "Run these commands in a bash shell."
   ]
  },
  {
   "cell_type": "code",
   "execution_count": null,
   "metadata": {},
   "outputs": [],
   "source": [
    "sudo apt-get update\n",
    "sudo apt-get upgrade\n",
    "sudo apt-get install -y build-essential wget python3-dev \\\n",
    "    libreadline-gplv2-dev libncursesw5-dev libssl-dev \\\n",
    "    libsqlite3-dev tk-dev libgdbm-dev libc6-dev libbz2-dev \\\n",
    "    libffi-dev"
   ]
  },
  {
   "cell_type": "code",
   "execution_count": null,
   "metadata": {},
   "outputs": [],
   "source": [
    "mkdir /tmp/Python38\n",
    "cd /tmp/Python38\n",
    "wget https://www.python.org/ftp/python/3.8.5/Python-3.8.5.tar.xz\n",
    "tar xvf Python-3.8.5.tar.xz$ cd /tmp/Python38/Python-3.8.5$ ./configure\n",
    "sudo make altinstall"
   ]
  },
  {
   "cell_type": "code",
   "execution_count": null,
   "metadata": {},
   "outputs": [],
   "source": [
    "sudo ln -s /usr/local/bin/python3.8 /usr/bin/python\n",
    "wget https://bootstrap.pypa.io/get-pip.py && python get-pip.py\n",
    "pip install --upgrade pip"
   ]
  },
  {
   "cell_type": "code",
   "execution_count": null,
   "metadata": {},
   "outputs": [],
   "source": [
    "sudo apt-get install python3-venv\n",
    "python -m venv env\n",
    "source env/bin/activate"
   ]
  },
  {
   "cell_type": "code",
   "execution_count": null,
   "metadata": {},
   "outputs": [],
   "source": [
    "pip install jupyter notebook jupyterlab --upgrade\n",
    "pip install qiskit\n",
    "pip install numpy scipy matplotlib ipython pandas sympy nose seaborn\n",
    "pip install scikit-learn\n",
    "pip install pylatexenc ipywidgets qutip"
   ]
  },
  {
   "cell_type": "code",
   "execution_count": null,
   "metadata": {},
   "outputs": [],
   "source": [
    "jupyter lab"
   ]
  }
 ],
 "metadata": {
  "kernelspec": {
   "display_name": "Python 3 (ipykernel)",
   "language": "python",
   "name": "python3"
  },
  "language_info": {
   "codemirror_mode": {
    "name": "ipython",
    "version": 3
   },
   "file_extension": ".py",
   "mimetype": "text/x-python",
   "name": "python",
   "nbconvert_exporter": "python",
   "pygments_lexer": "ipython3",
   "version": "3.11.5"
  }
 },
 "nbformat": 4,
 "nbformat_minor": 2
}
