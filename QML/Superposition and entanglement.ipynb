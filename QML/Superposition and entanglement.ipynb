{
 "cells": [
  {
   "cell_type": "markdown",
   "id": "fc316e41",
   "metadata": {},
   "source": [
    "# Superposition and entanglement"
   ]
  },
  {
   "cell_type": "markdown",
   "id": "7fb1bd6d",
   "metadata": {},
   "source": [
    "### Superposition:\n",
    "\n",
    "#### Definition:\n",
    "\n",
    "1. **Quantum Superposition:**\n",
    "   - Superposition is a fundamental concept in quantum mechanics that allows quantum systems to exist in multiple states simultaneously.\n",
    "\n",
    "2. **Quantum State Vector:**\n",
    "   - A quantum state is represented by a state vector \\(|\\psi\\rangle\\), and a superposition is a linear combination of these states.\n",
    "\n",
    "3. **Mathematical Representation:**\n",
    "   - Mathematically, superposition is expressed as \\(|\\psi\\rangle = \\alpha|0\\rangle + \\beta|1\\rangle\\), where \\(\\alpha\\) and \\(\\beta\\) are complex numbers, and \\(|0\\rangle\\) and \\(|1\\rangle\\) are basis states.\n",
    "\n",
    "4. **Probability Interpretation:**\n",
    "   - The coefficients \\(\\alpha\\) and \\(\\beta\\) determine the probability of measuring the system in the corresponding basis state upon measurement.\n",
    "\n",
    "#### Quantum Gates and Superposition:\n",
    "\n",
    "5. **Hadamard Gate (H):**\n",
    "   - The Hadamard gate is a key quantum gate that creates superposition by transforming the basis states:\n",
    "     \\[ H|0\\rangle = \\frac{1}{\\sqrt{2}}(|0\\rangle + |1\\rangle) \\]\n",
    "\n",
    "### Entanglement:\n",
    "\n",
    "#### Definition:\n",
    "\n",
    "6. **Quantum Entanglement:**\n",
    "   - Entanglement is a quantum phenomenon where two or more particles become correlated in such a way that the state of one particle cannot be described independently of the state of the others.\n",
    "\n",
    "7. **Bell States:**\n",
    "   - Bell states represent maximally entangled states and are defined as:\n",
    "     \\[ |\\Phi^+\\rangle = \\frac{1}{\\sqrt{2}}(|00\\rangle + |11\\rangle) \\]\n",
    "\n",
    "#### Entanglement and Quantum Gates:\n",
    "\n",
    "8. **CNOT Gate (Controlled-NOT):**\n",
    "   - The CNOT gate is often used to create entanglement between qubits:\n",
    "     \\[ \\text{CNOT}|00\\rangle = |00\\rangle, \\quad \\text{CNOT}|01\\rangle = |01\\rangle, \\]\n",
    "     \\[ \\text{CNOT}|10\\rangle = |11\\rangle, \\quad \\text{CNOT}|11\\rangle = |10\\rangle \\]\n",
    "\n",
    "#### Measurement and Entanglement:\n",
    "\n",
    "9. **Quantum Measurement:**\n",
    "   - Entanglement is revealed upon measurement. The measurement of one entangled particle instantly determines the state of the other, regardless of the physical distance between them.\n",
    "\n",
    "#### Quantum Entanglement and Bell's Theorem:\n",
    "\n",
    "10. **Bell's Theorem:**\n",
    "    - Bell's theorem states that certain predictions of quantum mechanics are incompatible with local hidden variable theories, emphasizing the non-local nature of quantum entanglement.\n",
    "\n",
    "#### Quantum Entanglement Applications:\n",
    "\n",
    "11. **Quantum Teleportation:**\n",
    "    - Quantum entanglement enables quantum teleportation, where the state of a quantum system can be transmitted between entangled particles.\n",
    "\n",
    "12. **Quantum Cryptography:**\n",
    "    - Entanglement is used in quantum key distribution protocols for secure communication.\n",
    "\n",
    "### Conclusion:\n",
    "\n",
    "Superposition and entanglement are fundamental features of quantum mechanics. Superposition allows quantum systems to exist in multiple states simultaneously, leading to quantum parallelism. Entanglement, on the other hand, represents strong correlations between particles that defy classical intuition. Both concepts are crucial for the development of quantum algorithms and technologies, including quantum computing and quantum communication."
   ]
  },
  {
   "cell_type": "code",
   "execution_count": 1,
   "id": "c152a5b2",
   "metadata": {},
   "outputs": [
    {
     "name": "stderr",
     "output_type": "stream",
     "text": [
      "C:\\Users\\yashr\\AppData\\Local\\Temp\\ipykernel_12432\\3188615132.py:19: DeprecationWarning: Using a qobj for run() is deprecated as of qiskit-aer 0.9.0 and will be removed no sooner than 3 months from that release date. Transpiled circuits should now be passed directly using `backend.run(circuits, **run_options).\n",
      "  result = simulator.run(qobj).result()\n"
     ]
    },
    {
     "name": "stdout",
     "output_type": "stream",
     "text": [
      "Measurement Results: {'11': 511, '00': 513}\n"
     ]
    },
    {
     "name": "stderr",
     "output_type": "stream",
     "text": [
      "C:\\Users\\yashr\\anaconda3\\New folder\\Anaconda3\\Lib\\site-packages\\qiskit\\visualization\\circuit\\matplotlib.py:266: FutureWarning: The default matplotlib drawer scheme will be changed to \"iqp\" in a following release. To silence this warning, specify the current default explicitly as style=\"clifford\", or the new default as style=\"iqp\".\n",
      "  self._style, def_font_ratio = load_style(self._style)\n"
     ]
    },
    {
     "data": {
      "image/png": "[encoded data removed]",
      "text/plain": [
       "<Figure size 580.387x284.278 with 1 Axes>"
      ]
     },
     "execution_count": 1,
     "metadata": {},
     "output_type": "execute_result"
    }
   ],
   "source": [
    "from qiskit import QuantumCircuit, Aer, transpile, assemble\n",
    "\n",
    "# Create a quantum circuit with two qubits\n",
    "qc = QuantumCircuit(2)\n",
    "\n",
    "# Apply Hadamard gate to create superposition\n",
    "qc.h(0)\n",
    "\n",
    "# Apply CNOT gate for entanglement\n",
    "qc.cx(0, 1)\n",
    "\n",
    "# Measure the qubits\n",
    "qc.measure_all()\n",
    "\n",
    "# Simulate the quantum circuit\n",
    "simulator = Aer.get_backend('qasm_simulator')\n",
    "compiled_circuit = transpile(qc, simulator)\n",
    "qobj = assemble(compiled_circuit)\n",
    "result = simulator.run(qobj).result()\n",
    "\n",
    "# Display the measurement results\n",
    "counts = result.get_counts(qc)\n",
    "print(\"Measurement Results:\", counts)\n",
    "\n",
    "# Visualization of the quantum circuit\n",
    "qc.draw(output='mpl')\n"
   ]
  },
  {
   "cell_type": "markdown",
   "id": "6f30ff16",
   "metadata": {},
   "source": [
    "# Lists of all the topics in Superposition and entanglement"
   ]
  },
  {
   "cell_type": "markdown",
   "id": "2984c65a",
   "metadata": {},
   "source": [
    "Here is a list of key topics related to superposition and entanglement in the context of quantum mechanics:\n",
    "\n",
    "### Superposition:\n",
    "\n",
    "1. **Quantum Superposition:**\n",
    "   - Introduction to the concept of superposition in quantum mechanics.\n",
    "\n",
    "2. **Quantum State Vector:**\n",
    "   - Representation of quantum states using state vectors in a Hilbert space.\n",
    "\n",
    "3. **Mathematical Representation:**\n",
    "   - Expressing superposition as a linear combination of basis states using complex coefficients.\n",
    "\n",
    "4. **Probability Interpretation:**\n",
    "   - Understanding how the coefficients in superposition relate to the probabilities of measurement outcomes.\n",
    "\n",
    "5. **Hadamard Gate:**\n",
    "   - Application of the Hadamard gate to create superposition.\n",
    "\n",
    "6. **Quantum Parallelism:**\n",
    "   - Explanation of how superposition enables quantum parallelism, allowing quantum systems to exist in multiple states simultaneously.\n",
    "\n",
    "### Entanglement:\n",
    "\n",
    "7. **Quantum Entanglement:**\n",
    "   - Introduction to the phenomenon of entanglement, where particles become correlated in a way that their states are interdependent.\n",
    "\n",
    "8. **Bell States:**\n",
    "   - Definition and examples of Bell states, which represent maximally entangled quantum states.\n",
    "\n",
    "9. **CNOT Gate (Controlled-NOT):**\n",
    "   - Application of the CNOT gate to create entanglement between qubits.\n",
    "\n",
    "10. **Quantum Measurement:**\n",
    "    - How entanglement is revealed upon measurement and the instantaneous correlation between entangled particles.\n",
    "\n",
    "11. **Quantum Teleportation:**\n",
    "    - Application of entanglement in quantum teleportation, a process by which the state of a quantum system is transmitted using entangled particles.\n",
    "\n",
    "12. **Quantum Cryptography:**\n",
    "    - Use of entanglement in quantum key distribution protocols for secure communication.\n",
    "\n",
    "13. **Bell's Theorem:**\n",
    "    - Explanation of Bell's theorem, which demonstrates the incompatibility of certain predictions of quantum mechanics with local hidden variable theories.\n",
    "\n",
    "### Applications:\n",
    "\n",
    "14. **Quantum Computing:**\n",
    "    - Role of superposition and entanglement in quantum algorithms, including their impact on quantum computational speedup.\n",
    "\n",
    "15. **Quantum Communication:**\n",
    "    - Utilization of entanglement for secure communication in quantum cryptography protocols.\n",
    "\n",
    "16. **Quantum Technologies:**\n",
    "    - Emerging quantum technologies that leverage superposition and entanglement for practical applications.\n",
    "\n",
    "17. **Quantum Error Correction:**\n",
    "    - Challenges and methods for mitigating errors in quantum computation arising from noise and decoherence.\n",
    "\n",
    "### Conclusion:\n",
    "\n",
    "18. **Foundational Concepts:**\n",
    "    - The foundational nature of superposition and entanglement in the principles of quantum mechanics.\n",
    "\n",
    "19. **Quantum Entanglement and Relativity:**\n",
    "    - Considerations of entanglement in the context of quantum mechanics and its implications for concepts such as quantum nonlocality and relativity."
   ]
  },
  {
   "cell_type": "markdown",
   "id": "523d43b4",
   "metadata": {},
   "source": [
    "# Quantum Superposition:\n",
    "\n",
    "Introduction to the concept of superposition in quantum mechanics."
   ]
  },
  {
   "cell_type": "code",
   "execution_count": null,
   "id": "4b94b0d7",
   "metadata": {},
   "outputs": [],
   "source": []
  }
 ],
 "metadata": {
  "kernelspec": {
   "display_name": "Python 3 (ipykernel)",
   "language": "python",
   "name": "python3"
  },
  "language_info": {
   "codemirror_mode": {
    "name": "ipython",
    "version": 3
   },
   "file_extension": ".py",
   "mimetype": "text/x-python",
   "name": "python",
   "nbconvert_exporter": "python",
   "pygments_lexer": "ipython3",
   "version": "3.11.5"
  }
 },
 "nbformat": 4,
 "nbformat_minor": 5
}
