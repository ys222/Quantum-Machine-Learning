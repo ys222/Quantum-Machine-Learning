{
 "cells": [
  {
   "cell_type": "markdown",
   "id": "bfb9790a",
   "metadata": {},
   "source": [
    "# Quantum Machine Learning "
   ]
  },
  {
   "cell_type": "markdown",
   "id": "8b509c39",
   "metadata": {},
   "source": [
    "## Quantum Neural Networks"
   ]
  },
  {
   "cell_type": "markdown",
   "id": "5940349a",
   "metadata": {},
   "source": [
    "# Overview"
   ]
  },
  {
   "cell_type": "markdown",
   "id": "e09bcd5e",
   "metadata": {},
   "source": [
    "This notebook demonstrates different quantum neural network (QNN) implementations provided in qiskit-machine-learning, and how they can be integrated into basic quantum machine learning (QML) workflows.\n",
    "\n",
    "The tutorial is structured as follows:\n",
    "\n",
    "Introduction\n",
    "\n",
    "How to Instantiate QNNs\n",
    "\n",
    "How to Run a Forward Pass\n",
    "\n",
    "How to Run a Backward Pass\n",
    "\n",
    "Advanced Functionality\n",
    "\n",
    "Conclusion"
   ]
  },
  {
   "cell_type": "markdown",
   "id": "70ffc19d",
   "metadata": {},
   "source": [
    "# 1. Introduction"
   ]
  },
  {
   "cell_type": "markdown",
   "id": "83ad2a0e",
   "metadata": {},
   "source": [
    "## 1.1. Quantum vs. Classical Neural Networks"
   ]
  },
  {
   "cell_type": "markdown",
   "id": "7ddba3ef",
   "metadata": {},
   "source": [
    "Classical neural networks are algorithmic models inspired by the human brain that can be trained to recognize patterns in data and learn to solve complex problems. They are based on a series of interconnected nodes, or neurons, organized in a layered structure, with parameters that can be learned by applying machine or deep learning training strategies.\n",
    "\n",
    "The motivation behind quantum machine learning (QML) is to integrate notions from quantum computing and classical machine learning to open the way for new and improved learning schemes. QNNs apply this generic principle by combining classical neural networks and parametrized quantum circuits. Because they lie at an intersection between two fields, QNNs can be viewed from two perspectives:\n",
    "\n",
    "From a machine learning perspective, QNNs are, once again, algorithmic models that can be trained to find hidden patterns in data in a similar manner to their classical counterparts. These models can load classical data (inputs) into a quantum state, and later process it with quantum gates parametrized by trainable weights. Figure 1 shows a generic QNN example including the data loading and processing steps. The output from measuring this state can then be plugged into a loss function to train the weights through backpropagation.\n",
    "\n",
    "From a quantum computing perspective, QNNs are quantum algorithms based on parametrized quantum circuits that can be trained in a variational manner using classical optimizers. These circuits contain a feature map (with input parameters) and an ansatz (with trainable weights), as seen in Figure 1.\n",
    "\n",
    "new_qnn-3.jpg\n",
    "\n",
    "Figure 1. Generic quantum neural network (QNN) structure.\n",
    "\n",
    "As you can see, these two perspectives are complementary, and do not necessarily rely on strict definitions of concepts such as “quantum neuron” or what constitutes a QNN’s “layer”."
   ]
  },
  {
   "cell_type": "markdown",
   "id": "4a388ddd",
   "metadata": {},
   "source": [
    "# 1.2. Implementation in qiskit-machine-learning"
   ]
  },
  {
   "cell_type": "markdown",
   "id": "bb110885",
   "metadata": {},
   "source": [
    "The QNNs in qiskit-machine-learning are meant as application-agnostic computational units that can be used for different use cases, and their setup will depend on the application they are needed for. The module contains an interface for the QNNs and two specific implementations:\n",
    "\n",
    "1.NeuralNetwork: The interface for neural networks. This is an abstract class all QNNs inherit from.\n",
    "\n",
    "2.EstimatorQNN: A network based on the evaluation of quantum mechanical observables.\n",
    "\n",
    "3.SamplerQNN: A network based on the samples resulting from measuring a quantum circuit.\n",
    "\n",
    "These implementations are based on the qiskit primitives. The primitives are the entry point to run QNNs on either a simulator or real quantum hardware. Each implementation, EstimatorQNN and SamplerQNN, takes in an optional instance of its corresponding primitive, which can be any subclass of BaseEstimator and BaseSampler, respectively.\n",
    "\n",
    "The qiskit.primitives module provides a reference implementation for the Sampler and Estimator classes to run statevector simulations. By default, if no instance is passed to a QNN class, an instance of the corresponding reference primitive (Sampler or Estimator) is created automatically by the network. For more information about primitives please refer to the primitives documentation.\n",
    "\n",
    "The NeuralNetwork class is the interface for all QNNs available in qiskit-machine-learning. It exposes a forward and a backward pass that take data samples and trainable weights as input.\n",
    "\n",
    "It’s important to note that NeuralNetworks are “stateless”. They do not contain any training capabilities (these are pushed to the actual algorithms or applications: classifiers, regressors, etc), nor do they store the values for trainable weights.\n",
    "\n",
    "Let’s now look into specific examples for the two NeuralNetwork implementations. But first, let’s set the algorithmic seed to ensure that the results don’t change between runs."
   ]
  },
  {
   "cell_type": "code",
   "execution_count": 3,
   "id": "1bcf31cc",
   "metadata": {},
   "outputs": [],
   "source": [
    "from qiskit_algorithms.utils import algorithm_globals\n",
    "\n",
    "algorithm_globals.random_seed = 42"
   ]
  },
  {
   "cell_type": "markdown",
   "id": "579227c8",
   "metadata": {},
   "source": [
    "# 2. How to Instantiate QNNs"
   ]
  },
  {
   "cell_type": "markdown",
   "id": "ac96ae7e",
   "metadata": {},
   "source": [
    "## 2.1. EstimatorQNN"
   ]
  },
  {
   "cell_type": "markdown",
   "id": "ad346cca",
   "metadata": {},
   "source": [
    "The EstimatorQNN takes in a parametrized quantum circuit as input, as well as an optional quantum mechanical observable, and outputs expectation value computations for the forward pass. The EstimatorQNN also accepts lists of observables to construct more complex QNNs.\n",
    "\n",
    "Let’s see an EstimatorQNN in action with a simple example. We start by constructing the parametrized circuit. This quantum circuit has two parameters, one represents a QNN input and the other represents a trainable weight:"
   ]
  },
  {
   "cell_type": "code",
   "execution_count": 4,
   "id": "420b8b0e",
   "metadata": {},
   "outputs": [
    {
     "name": "stderr",
     "output_type": "stream",
     "text": [
      "C:\\Users\\yashr\\anaconda3\\New folder\\Anaconda3\\Lib\\site-packages\\qiskit\\visualization\\circuit\\matplotlib.py:266: FutureWarning: The default matplotlib drawer scheme will be changed to \"iqp\" in a following release. To silence this warning, specify the current default explicitly as style=\"clifford\", or the new default as style=\"iqp\".\n",
      "  self._style, def_font_ratio = load_style(self._style)\n"
     ]
    },
    {
     "data": {
      "image/png": "[encoded data removed]",
      "text/plain": [
       "<Figure size 352.675x117.056 with 1 Axes>"
      ]
     },
     "execution_count": 4,
     "metadata": {},
     "output_type": "execute_result"
    }
   ],
   "source": [
    "from qiskit.circuit import Parameter\n",
    "from qiskit import QuantumCircuit\n",
    "\n",
    "params1 = [Parameter(\"input1\"), Parameter(\"weight1\")]\n",
    "qc1 = QuantumCircuit(1)\n",
    "qc1.h(0)\n",
    "qc1.ry(params1[0], 0)\n",
    "qc1.rx(params1[1], 0)\n",
    "qc1.draw(\"mpl\")"
   ]
  },
  {
   "cell_type": "markdown",
   "id": "9af183df",
   "metadata": {},
   "source": [
    "We can now create an observable to define the expectation value computation. If not set, then the EstimatorQNN will automatically create the default observable \n",
    ". Here, \n",
    " is the number of qubits of the quantum circuit.\n",
    "\n",
    "In this example, we will change things up and use the \n",
    " observable:"
   ]
  },
  {
   "cell_type": "code",
   "execution_count": 5,
   "id": "28804e85",
   "metadata": {},
   "outputs": [],
   "source": [
    "from qiskit.quantum_info import SparsePauliOp\n",
    "\n",
    "observable1 = SparsePauliOp.from_list([(\"Y\" * qc1.num_qubits, 1)])"
   ]
  },
  {
   "cell_type": "markdown",
   "id": "63889d9e",
   "metadata": {},
   "source": [
    "Together with the quantum circuit defined above, and the observable we have created, the EstimatorQNN constructor takes in the following keyword arguments:\n",
    "\n",
    "#.estimator: optional primitive instance\n",
    "\n",
    "#.input_params: list of quantum circuit parameters that should be treated as “network inputs”\n",
    "\n",
    "#.weight_params: list of quantum circuit parameters that should be treated as “network weights”\n",
    "\n",
    "In this example, we previously decided that the first parameter of params1 should be the input, while the second should be the weight. As we are performing a local statevector simulation, we will not set the estimator parameter; the network will create an instance of the reference Estimator primitive for us. If we needed to access cloud resources or Aer simulators, we would have to define the respective Estimator instances and pass them to the EstimatorQNN."
   ]
  },
  {
   "cell_type": "code",
   "execution_count": 6,
   "id": "8a14bc8c",
   "metadata": {},
   "outputs": [
    {
     "data": {
      "text/plain": [
       "<qiskit_machine_learning.neural_networks.estimator_qnn.EstimatorQNN at 0x1df3b852a90>"
      ]
     },
     "execution_count": 6,
     "metadata": {},
     "output_type": "execute_result"
    }
   ],
   "source": [
    "from qiskit_machine_learning.neural_networks import EstimatorQNN\n",
    "\n",
    "estimator_qnn = EstimatorQNN(\n",
    "    circuit=qc1, observables=observable1, input_params=[params1[0]], weight_params=[params1[1]]\n",
    ")\n",
    "estimator_qnn"
   ]
  },
  {
   "cell_type": "markdown",
   "id": "1373da3a",
   "metadata": {},
   "source": [
    "We’ll see how to use the QNN in the following sections, but before that, let’s check out the SamplerQNN class."
   ]
  },
  {
   "cell_type": "markdown",
   "id": "ed414f55",
   "metadata": {},
   "source": [
    "# 2.2. SamplerQNN"
   ]
  },
  {
   "cell_type": "markdown",
   "id": "0adad113",
   "metadata": {},
   "source": [
    "The SamplerQNN is instantiated in a similar way to the EstimatorQNN, but because it directly consumes samples from measuring the quantum circuit, it does not require a custom observable.\n",
    "\n",
    "These output samples are interpreted by default as the probabilities of measuring the integer index corresponding to a bitstring. However, the SamplerQNN also allows us to specify an interpret function to post-process the samples. This function should be defined so that it takes a measured integer (from a bitstring) and maps it to a new value, i.e. non-negative integer.\n",
    "\n",
    "(!) It’s important to note that if a custom interpret function is defined, the output_shape cannot be inferred by the network, and needs to be provided explicitly.\n",
    "\n",
    "(!) It’s also important to keep in mind that if no interpret function is used, the dimension of the probability vector will scale exponentially with the number of qubits. With a custom interpret function, this scaling can change. If, for instance, an index is mapped to the parity of the corresponding bitstring, i.e., to 0 or 1, the result will be a probability vector of length 2 independently of the number of qubits.\n",
    "\n",
    "Let’s create a different quantum circuit for the SamplerQNN. In this case, we will have two input parameters and four trainable weights that parametrize a two-local circuit."
   ]
  },
  {
   "cell_type": "code",
   "execution_count": 7,
   "id": "2f2fe6b7",
   "metadata": {},
   "outputs": [
    {
     "name": "stdout",
     "output_type": "stream",
     "text": [
      "input parameters: ['input[0]', 'input[1]']\n",
      "weight parameters: ['weight[0]', 'weight[1]', 'weight[2]', 'weight[3]']\n"
     ]
    },
    {
     "data": {
      "image/png": "[encoded data removed]",
      "text/plain": [
       "<Figure size 538.128x200.667 with 1 Axes>"
      ]
     },
     "execution_count": 7,
     "metadata": {},
     "output_type": "execute_result"
    }
   ],
   "source": [
    "from qiskit.circuit import ParameterVector\n",
    "\n",
    "inputs2 = ParameterVector(\"input\", 2)\n",
    "weights2 = ParameterVector(\"weight\", 4)\n",
    "print(f\"input parameters: {[str(item) for item in inputs2.params]}\")\n",
    "print(f\"weight parameters: {[str(item) for item in weights2.params]}\")\n",
    "\n",
    "qc2 = QuantumCircuit(2)\n",
    "qc2.ry(inputs2[0], 0)\n",
    "qc2.ry(inputs2[1], 1)\n",
    "qc2.cx(0, 1)\n",
    "qc2.ry(weights2[0], 0)\n",
    "qc2.ry(weights2[1], 1)\n",
    "qc2.cx(0, 1)\n",
    "qc2.ry(weights2[2], 0)\n",
    "qc2.ry(weights2[3], 1)\n",
    "\n",
    "qc2.draw(output=\"mpl\")"
   ]
  },
  {
   "cell_type": "markdown",
   "id": "e396b52c",
   "metadata": {},
   "source": [
    "Similarly to the EstimatorQNN, we must specify inputs and weights when instantiating the SamplerQNN. In this case, the keyword arguments will be: - sampler: optional primitive instance - input_params: list of quantum circuit parameters that should be treated as “network inputs” - weight_params: list of quantum circuit parameters that should be treated as “network weights”\n",
    "\n",
    "Please note that, once again, we are choosing not to set the Sampler instance to the QNN and relying on the default."
   ]
  },
  {
   "cell_type": "code",
   "execution_count": 8,
   "id": "f33b012d",
   "metadata": {},
   "outputs": [
    {
     "data": {
      "text/plain": [
       "<qiskit_machine_learning.neural_networks.sampler_qnn.SamplerQNN at 0x1df3b9047d0>"
      ]
     },
     "execution_count": 8,
     "metadata": {},
     "output_type": "execute_result"
    }
   ],
   "source": [
    "from qiskit_machine_learning.neural_networks import SamplerQNN\n",
    "\n",
    "sampler_qnn = SamplerQNN(circuit=qc2, input_params=inputs2, weight_params=weights2)\n",
    "sampler_qnn"
   ]
  },
  {
   "cell_type": "markdown",
   "id": "08727b3d",
   "metadata": {},
   "source": [
    "In addition to the basic arguments shown above, the SamplerQNN accepts three more settings: input_gradients, interpret, and output_shape. These will be introduced in sections 4 and 5."
   ]
  },
  {
   "cell_type": "markdown",
   "id": "973d187b",
   "metadata": {},
   "source": [
    "# 3. How to Run a Forward Pass"
   ]
  },
  {
   "cell_type": "markdown",
   "id": "61f96931",
   "metadata": {},
   "source": [
    "## 3.1. Set-Up"
   ]
  },
  {
   "cell_type": "markdown",
   "id": "a97144bb",
   "metadata": {},
   "source": [
    "In a real setting, the inputs would be defined by the dataset, and the weights would be defined by the training algorithm or as part of a pre-trained model. However, for the sake of this tutorial, we will specify random sets of input and weights of the right dimension:"
   ]
  },
  {
   "cell_type": "markdown",
   "id": "32359014",
   "metadata": {},
   "source": [
    "## 3.1.1. EstimatorQNN Example"
   ]
  },
  {
   "cell_type": "code",
   "execution_count": 9,
   "id": "0c1e63ab",
   "metadata": {},
   "outputs": [
    {
     "name": "stdout",
     "output_type": "stream",
     "text": [
      "Number of input features for EstimatorQNN: 1 \n",
      "Input: [0.77395605]\n",
      "Number of trainable weights for EstimatorQNN: 1 \n",
      "Weights: [0.43887844]\n"
     ]
    }
   ],
   "source": [
    "estimator_qnn_input = algorithm_globals.random.random(estimator_qnn.num_inputs)\n",
    "estimator_qnn_weights = algorithm_globals.random.random(estimator_qnn.num_weights)\n",
    "print(\n",
    "    f\"Number of input features for EstimatorQNN: {estimator_qnn.num_inputs} \\nInput: {estimator_qnn_input}\"\n",
    ")\n",
    "print(\n",
    "    f\"Number of trainable weights for EstimatorQNN: {estimator_qnn.num_weights} \\nWeights: {estimator_qnn_weights}\"\n",
    ")"
   ]
  },
  {
   "cell_type": "markdown",
   "id": "fcfce587",
   "metadata": {},
   "source": [
    "## 3.1.2. SamplerQNN Example"
   ]
  },
  {
   "cell_type": "code",
   "execution_count": 10,
   "id": "f55fd47f",
   "metadata": {},
   "outputs": [
    {
     "name": "stdout",
     "output_type": "stream",
     "text": [
      "Number of input features for SamplerQNN: 2 \n",
      "Input: [0.85859792 0.69736803]\n",
      "Number of trainable weights for SamplerQNN: 4 \n",
      "Weights: [0.09417735 0.97562235 0.7611397  0.78606431]\n"
     ]
    }
   ],
   "source": [
    "sampler_qnn_input = algorithm_globals.random.random(sampler_qnn.num_inputs)\n",
    "sampler_qnn_weights = algorithm_globals.random.random(sampler_qnn.num_weights)\n",
    "print(\n",
    "    f\"Number of input features for SamplerQNN: {sampler_qnn.num_inputs} \\nInput: {sampler_qnn_input}\"\n",
    ")\n",
    "print(\n",
    "    f\"Number of trainable weights for SamplerQNN: {sampler_qnn.num_weights} \\nWeights: {sampler_qnn_weights}\"\n",
    ")"
   ]
  },
  {
   "cell_type": "markdown",
   "id": "a40cefe3",
   "metadata": {},
   "source": [
    "Once we have the inputs and the weights, let’s see the results for batched and non-batched passes."
   ]
  },
  {
   "cell_type": "markdown",
   "id": "c2b3dbf1",
   "metadata": {},
   "source": [
    "# 3.2. Non-batched Forward Pass"
   ]
  },
  {
   "cell_type": "markdown",
   "id": "e5c595c9",
   "metadata": {},
   "source": [
    "## 3.2.1. EstimatorQNN Example"
   ]
  },
  {
   "cell_type": "markdown",
   "id": "f99046df",
   "metadata": {},
   "source": [
    "For the EstimatorQNN, the expected output shape for the forward pass is (1, num_qubits * num_observables) where 1 in our case is the number of samples:"
   ]
  },
  {
   "cell_type": "code",
   "execution_count": 11,
   "id": "e9dcbbcf",
   "metadata": {},
   "outputs": [
    {
     "name": "stdout",
     "output_type": "stream",
     "text": [
      "Forward pass result for EstimatorQNN: [[0.2970094]]. \n",
      "Shape: (1, 1)\n"
     ]
    }
   ],
   "source": [
    "estimator_qnn_forward = estimator_qnn.forward(estimator_qnn_input, estimator_qnn_weights)\n",
    "\n",
    "print(\n",
    "    f\"Forward pass result for EstimatorQNN: {estimator_qnn_forward}. \\nShape: {estimator_qnn_forward.shape}\"\n",
    ")"
   ]
  },
  {
   "cell_type": "markdown",
   "id": "71b7b1ae",
   "metadata": {},
   "source": [
    "# 3.2.2. SamplerQNN Example\n",
    "For the SamplerQNN (without a custom interpret function), the expected output shape for the forward pass is (1, 2**num_qubits). With a custom interpret function, the output shape will be (1, output_shape), where 1 in our case is the number of samples:"
   ]
  },
  {
   "cell_type": "code",
   "execution_count": 12,
   "id": "cb3a0878",
   "metadata": {},
   "outputs": [
    {
     "name": "stdout",
     "output_type": "stream",
     "text": [
      "Forward pass result for SamplerQNN: [[0.01826527 0.25735654 0.5267981  0.19758009]].  \n",
      "Shape: (1, 4)\n"
     ]
    }
   ],
   "source": [
    "sampler_qnn_forward = sampler_qnn.forward(sampler_qnn_input, sampler_qnn_weights)\n",
    "\n",
    "print(\n",
    "    f\"Forward pass result for SamplerQNN: {sampler_qnn_forward}.  \\nShape: {sampler_qnn_forward.shape}\"\n",
    ")"
   ]
  },
  {
   "cell_type": "markdown",
   "id": "33a4ac39",
   "metadata": {},
   "source": [
    "# 3.3. Batched Forward Pass\n",
    "\n",
    "## 3.3.1. EstimatorQNN Example\n",
    "For the EstimatorQNN, the expected output shape for the forward pass is (batch_size, num_qubits * num_observables):"
   ]
  },
  {
   "cell_type": "code",
   "execution_count": 13,
   "id": "5aa2affe",
   "metadata": {},
   "outputs": [
    {
     "name": "stdout",
     "output_type": "stream",
     "text": [
      "Forward pass result for EstimatorQNN: [[0.2970094]\n",
      " [0.2970094]].  \n",
      "Shape: (2, 1)\n"
     ]
    }
   ],
   "source": [
    "estimator_qnn_forward_batched = estimator_qnn.forward(\n",
    "    [estimator_qnn_input, estimator_qnn_input], estimator_qnn_weights\n",
    ")\n",
    "\n",
    "print(\n",
    "    f\"Forward pass result for EstimatorQNN: {estimator_qnn_forward_batched}.  \\nShape: {estimator_qnn_forward_batched.shape}\"\n",
    ")"
   ]
  },
  {
   "cell_type": "markdown",
   "id": "68498972",
   "metadata": {},
   "source": [
    "# 3.3.2. SamplerQNN Example\n",
    "For the SamplerQNN (without custom interpret function), the expected output shape for the forward pass is (batch_size, 2**num_qubits). With a custom interpret function, the output shape will be (batch_size, output_shape)."
   ]
  },
  {
   "cell_type": "code",
   "execution_count": 14,
   "id": "c1951cc8",
   "metadata": {},
   "outputs": [
    {
     "name": "stdout",
     "output_type": "stream",
     "text": [
      "Forward pass result for SamplerQNN: [[0.01826527 0.25735654 0.5267981  0.19758009]\n",
      " [0.01826527 0.25735654 0.5267981  0.19758009]].  \n",
      "Shape: (2, 4)\n"
     ]
    }
   ],
   "source": [
    "sampler_qnn_forward_batched = sampler_qnn.forward(\n",
    "    [sampler_qnn_input, sampler_qnn_input], sampler_qnn_weights\n",
    ")\n",
    "\n",
    "print(\n",
    "    f\"Forward pass result for SamplerQNN: {sampler_qnn_forward_batched}.  \\nShape: {sampler_qnn_forward_batched.shape}\"\n",
    ")"
   ]
  },
  {
   "cell_type": "markdown",
   "id": "6ff5b28c",
   "metadata": {},
   "source": [
    "# 4. How to Run a Backward Pass\n",
    "Let’s take advantage of the inputs and weights defined above to show how the backward pass works. This pass returns a tuple (input_gradients, weight_gradients). By default, the backward pass will only calculate gradients with respect to the weight parameters.\n",
    "\n",
    "If you want to enable gradients with respect to the input parameters, you should set the following flag during the QNN instantiation:\n",
    "\n",
    "qnn = ...QNN(..., input_gradients=True)\n",
    "Please remember that input gradients are required for the use of TorchConnector for PyTorch integration."
   ]
  },
  {
   "cell_type": "markdown",
   "id": "d4a7549d",
   "metadata": {},
   "source": [
    "# 4.1. Backward Pass without Input Gradients\n",
    "## 4.1.1. EstimatorQNN Example\n",
    "For the EstimatorQNN, the expected output shape for the weight gradients is (batch_size, num_qubits * num_observables, num_weights):"
   ]
  },
  {
   "cell_type": "code",
   "execution_count": 15,
   "id": "c639250d",
   "metadata": {},
   "outputs": [
    {
     "name": "stdout",
     "output_type": "stream",
     "text": [
      "Input gradients for EstimatorQNN: None.  \n",
      "Shape: None\n",
      "Weight gradients for EstimatorQNN: [[[0.63272767]]].  \n",
      "Shape: (1, 1, 1)\n"
     ]
    }
   ],
   "source": [
    "estimator_qnn_input_grad, estimator_qnn_weight_grad = estimator_qnn.backward(\n",
    "    estimator_qnn_input, estimator_qnn_weights\n",
    ")\n",
    "\n",
    "print(\n",
    "    f\"Input gradients for EstimatorQNN: {estimator_qnn_input_grad}.  \\nShape: {estimator_qnn_input_grad}\"\n",
    ")\n",
    "print(\n",
    "    f\"Weight gradients for EstimatorQNN: {estimator_qnn_weight_grad}.  \\nShape: {estimator_qnn_weight_grad.shape}\"\n",
    ")"
   ]
  },
  {
   "cell_type": "markdown",
   "id": "dc392ead",
   "metadata": {},
   "source": [
    "# 4.1.2. SamplerQNN Example\n",
    "For the SamplerQNN (without custom interpret function), the expected output shape for the forward pass is (batch_size, 2**num_qubits, num_weights). With a custom interpret function, the output shape will be (batch_size, output_shape, num_weights).:"
   ]
  },
  {
   "cell_type": "code",
   "execution_count": 16,
   "id": "8208174a",
   "metadata": {},
   "outputs": [
    {
     "name": "stdout",
     "output_type": "stream",
     "text": [
      "Input gradients for SamplerQNN: None.  \n",
      "Shape: None\n",
      "Weight gradients for SamplerQNN: [[[ 0.00606238 -0.1124595  -0.06856156 -0.09809236]\n",
      "  [ 0.21167414 -0.09069775  0.06856156 -0.22549618]\n",
      "  [-0.48846674  0.32499215 -0.32262178  0.09809236]\n",
      "  [ 0.27073021 -0.12183491  0.32262178  0.22549618]]].  \n",
      "Shape: (1, 4, 4)\n"
     ]
    }
   ],
   "source": [
    "sampler_qnn_input_grad, sampler_qnn_weight_grad = sampler_qnn.backward(\n",
    "    sampler_qnn_input, sampler_qnn_weights\n",
    ")\n",
    "\n",
    "print(\n",
    "    f\"Input gradients for SamplerQNN: {sampler_qnn_input_grad}.  \\nShape: {sampler_qnn_input_grad}\"\n",
    ")\n",
    "print(\n",
    "    f\"Weight gradients for SamplerQNN: {sampler_qnn_weight_grad}.  \\nShape: {sampler_qnn_weight_grad.shape}\"\n",
    ")"
   ]
  },
  {
   "cell_type": "markdown",
   "id": "d6e571fe",
   "metadata": {},
   "source": [
    "# 4.2. Backward Pass with Input Gradients\n",
    "Let’s enable the input_gradients to show what the expected output sizes are for this option."
   ]
  },
  {
   "cell_type": "code",
   "execution_count": 17,
   "id": "4b8a4301",
   "metadata": {},
   "outputs": [],
   "source": [
    "estimator_qnn.input_gradients = True\n",
    "sampler_qnn.input_gradients = True"
   ]
  },
  {
   "cell_type": "markdown",
   "id": "fd655ce8",
   "metadata": {},
   "source": [
    "# 4.2.1. EstimatorQNN Example\n",
    "For the EstimatorQNN, the expected output shape for the input gradients is (batch_size, num_qubits * num_observables, num_inputs):"
   ]
  },
  {
   "cell_type": "code",
   "execution_count": 18,
   "id": "209107da",
   "metadata": {},
   "outputs": [
    {
     "name": "stdout",
     "output_type": "stream",
     "text": [
      "Input gradients for EstimatorQNN: [[[0.3038852]]].  \n",
      "Shape: (1, 1, 1)\n",
      "Weight gradients for EstimatorQNN: [[[0.63272767]]].  \n",
      "Shape: (1, 1, 1)\n"
     ]
    }
   ],
   "source": [
    "estimator_qnn_input_grad, estimator_qnn_weight_grad = estimator_qnn.backward(\n",
    "    estimator_qnn_input, estimator_qnn_weights\n",
    ")\n",
    "\n",
    "print(\n",
    "    f\"Input gradients for EstimatorQNN: {estimator_qnn_input_grad}.  \\nShape: {estimator_qnn_input_grad.shape}\"\n",
    ")\n",
    "print(\n",
    "    f\"Weight gradients for EstimatorQNN: {estimator_qnn_weight_grad}.  \\nShape: {estimator_qnn_weight_grad.shape}\"\n",
    ")"
   ]
  },
  {
   "cell_type": "markdown",
   "id": "4a2ac2a2",
   "metadata": {},
   "source": [
    "# 4.2.2. SamplerQNN Example\n",
    "For the SamplerQNN (without custom interpret function), the expected output shape for the input gradients is (batch_size, 2**num_qubits, num_inputs). With a custom interpret function, the output shape will be (batch_size, output_shape, num_inputs)."
   ]
  },
  {
   "cell_type": "code",
   "execution_count": 19,
   "id": "ae5cd47c",
   "metadata": {},
   "outputs": [
    {
     "name": "stdout",
     "output_type": "stream",
     "text": [
      "Input gradients for SamplerQNN: [[[-0.05844702 -0.10621091]\n",
      "  [ 0.38798796 -0.19544083]\n",
      "  [-0.34561132  0.09459601]\n",
      "  [ 0.01607038  0.20705573]]].  \n",
      "Shape: (1, 4, 2)\n",
      "Weight gradients for SamplerQNN: [[[ 0.00606238 -0.1124595  -0.06856156 -0.09809236]\n",
      "  [ 0.21167414 -0.09069775  0.06856156 -0.22549618]\n",
      "  [-0.48846674  0.32499215 -0.32262178  0.09809236]\n",
      "  [ 0.27073021 -0.12183491  0.32262178  0.22549618]]].  \n",
      "Shape: (1, 4, 4)\n"
     ]
    }
   ],
   "source": [
    "sampler_qnn_input_grad, sampler_qnn_weight_grad = sampler_qnn.backward(\n",
    "    sampler_qnn_input, sampler_qnn_weights\n",
    ")\n",
    "\n",
    "print(\n",
    "    f\"Input gradients for SamplerQNN: {sampler_qnn_input_grad}.  \\nShape: {sampler_qnn_input_grad.shape}\"\n",
    ")\n",
    "print(\n",
    "    f\"Weight gradients for SamplerQNN: {sampler_qnn_weight_grad}.  \\nShape: {sampler_qnn_weight_grad.shape}\"\n",
    ")"
   ]
  },
  {
   "cell_type": "markdown",
   "id": "9d5ccfd5",
   "metadata": {},
   "source": [
    "# 5. Advanced Functionality\n",
    "## 5.1. EstimatorQNN with Multiple Observables\n",
    "The EstimatorQNN allows to pass lists of observables for more complex QNN architectures. For example (note the change in output shape):"
   ]
  },
  {
   "cell_type": "code",
   "execution_count": 21,
   "id": "a74522cb",
   "metadata": {},
   "outputs": [
    {
     "name": "stdout",
     "output_type": "stream",
     "text": [
      "Forward output for EstimatorQNN1: (1, 1)\n",
      "Forward output for EstimatorQNN2: (1, 2)\n",
      "Backward output for EstimatorQNN1: (1, 1, 1)\n",
      "Backward output for EstimatorQNN2: (1, 2, 1)\n"
     ]
    }
   ],
   "source": [
    "observable2 = SparsePauliOp.from_list([(\"Z\" * qc1.num_qubits, 1)])\n",
    "\n",
    "estimator_qnn2 = EstimatorQNN(\n",
    "    circuit=qc1,\n",
    "    observables=[observable1, observable2],\n",
    "    input_params=[params1[0]],\n",
    "    weight_params=[params1[1]],\n",
    ")\n",
    "estimator_qnn_forward2 = estimator_qnn2.forward(estimator_qnn_input, estimator_qnn_weights)\n",
    "estimator_qnn_input_grad2, estimator_qnn_weight_grad2 = estimator_qnn2.backward(\n",
    "    estimator_qnn_input, estimator_qnn_weights\n",
    ")\n",
    "\n",
    "print(f\"Forward output for EstimatorQNN1: {estimator_qnn_forward.shape}\")\n",
    "print(f\"Forward output for EstimatorQNN2: {estimator_qnn_forward2.shape}\")\n",
    "print(f\"Backward output for EstimatorQNN1: {estimator_qnn_weight_grad.shape}\")\n",
    "print(f\"Backward output for EstimatorQNN2: {estimator_qnn_weight_grad2.shape}\")"
   ]
  },
  {
   "cell_type": "markdown",
   "id": "ef6011dd",
   "metadata": {},
   "source": [
    "# 5.2. SamplerQNN with custom interpret\n",
    "One common interpret method for SamplerQNN is the parity function, which allows it to perform binary classification. As explained in the instantiation section, using interpret functions will modify the output shape of the forward and backward passes. In the case of the parity interpret function, output_shape is fixed to 2. Therefore, the expected forward and weight gradient shapes are (batch_size, 2) and (batch_size, 2, num_weights), respectively:"
   ]
  },
  {
   "cell_type": "code",
   "execution_count": 22,
   "id": "9a72de3a",
   "metadata": {},
   "outputs": [
    {
     "name": "stdout",
     "output_type": "stream",
     "text": [
      "Forward output for SamplerQNN1: (1, 4)\n",
      "Forward output for SamplerQNN2: (1, 2)\n",
      "Backward output for SamplerQNN1: (1, 4, 4)\n",
      "Backward output for SamplerQNN2: (1, 2, 4)\n"
     ]
    }
   ],
   "source": [
    "parity = lambda x: \"{:b}\".format(x).count(\"1\") % 2\n",
    "output_shape = 2  # parity = 0, 1\n",
    "\n",
    "sampler_qnn2 = SamplerQNN(\n",
    "    circuit=qc2,\n",
    "    input_params=inputs2,\n",
    "    weight_params=weights2,\n",
    "    interpret=parity,\n",
    "    output_shape=output_shape,\n",
    ")\n",
    "sampler_qnn_forward2 = sampler_qnn2.forward(sampler_qnn_input, sampler_qnn_weights)\n",
    "sampler_qnn_input_grad2, sampler_qnn_weight_grad2 = sampler_qnn2.backward(\n",
    "    sampler_qnn_input, sampler_qnn_weights\n",
    ")\n",
    "\n",
    "print(f\"Forward output for SamplerQNN1: {sampler_qnn_forward.shape}\")\n",
    "print(f\"Forward output for SamplerQNN2: {sampler_qnn_forward2.shape}\")\n",
    "print(f\"Backward output for SamplerQNN1: {sampler_qnn_weight_grad.shape}\")\n",
    "print(f\"Backward output for SamplerQNN2: {sampler_qnn_weight_grad2.shape}\")"
   ]
  },
  {
   "cell_type": "markdown",
   "id": "dc7ca209",
   "metadata": {},
   "source": [
    "# 6. Conclusion\n",
    "In this tutorial, we introduced the two neural networks classes provided by qiskit-machine-learning, namely the EstimatorQNN and SamplerQNN, which extend the base NeuralNetwork class. We provided some theoretical background, the key steps for QNN initialization, basic use in forward and backward passes, and advanced functionality.\n",
    "\n",
    "We now encourage you to play around with the problem setup and see how different circuit sizes, input, and weight parameter lengths influence the output shapes."
   ]
  },
  {
   "cell_type": "code",
   "execution_count": 23,
   "id": "704020aa",
   "metadata": {},
   "outputs": [
    {
     "data": {
      "text/html": [
       "<h3>Version Information</h3><table><tr><th>Software</th><th>Version</th></tr><tr><td><code>qiskit</code></td><td>0.45.1</td></tr><tr><td><code>qiskit_algorithms</code></td><td>0.2.1</td></tr><tr><td><code>qiskit_machine_learning</code></td><td>0.7.1</td></tr><tr><th colspan='2'>System information</th></tr><tr><td>Python version</td><td>3.11.5</td></tr><tr><td>Python compiler</td><td>MSC v.1916 64 bit (AMD64)</td></tr><tr><td>Python build</td><td>main, Sep 11 2023 13:26:23</td></tr><tr><td>OS</td><td>Windows</td></tr><tr><td>CPUs</td><td>2</td></tr><tr><td>Memory (Gb)</td><td>7.878513336181641</td></tr><tr><td colspan='2'>Wed Dec 20 14:50:25 2023 India Standard Time</td></tr></table>"
      ],
      "text/plain": [
       "<IPython.core.display.HTML object>"
      ]
     },
     "metadata": {},
     "output_type": "display_data"
    },
    {
     "data": {
      "text/html": [
       "<div style='width: 100%; background-color:#d5d9e0;padding-left: 10px; padding-bottom: 10px; padding-right: 10px; padding-top: 5px'><h3>This code is a part of Qiskit</h3><p>&copy; Copyright IBM 2017, 2023.</p><p>This code is licensed under the Apache License, Version 2.0. You may<br>obtain a copy of this license in the LICENSE.txt file in the root directory<br> of this source tree or at http://www.apache.org/licenses/LICENSE-2.0.<p>Any modifications or derivative works of this code must retain this<br>copyright notice, and modified files need to carry a notice indicating<br>that they have been altered from the originals.</p></div>"
      ],
      "text/plain": [
       "<IPython.core.display.HTML object>"
      ]
     },
     "metadata": {},
     "output_type": "display_data"
    }
   ],
   "source": [
    "import qiskit.tools.jupyter\n",
    "\n",
    "%qiskit_version_table\n",
    "%qiskit_copyright"
   ]
  },
  {
   "cell_type": "code",
   "execution_count": null,
   "id": "c06a27d2",
   "metadata": {},
   "outputs": [],
   "source": []
  }
 ],
 "metadata": {
  "kernelspec": {
   "display_name": "Python 3 (ipykernel)",
   "language": "python",
   "name": "python3"
  },
  "language_info": {
   "codemirror_mode": {
    "name": "ipython",
    "version": 3
   },
   "file_extension": ".py",
   "mimetype": "text/x-python",
   "name": "python",
   "nbconvert_exporter": "python",
   "pygments_lexer": "ipython3",
   "version": "3.11.5"
  }
 },
 "nbformat": 4,
 "nbformat_minor": 5
}
