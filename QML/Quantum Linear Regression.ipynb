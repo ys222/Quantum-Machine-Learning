{
 "cells": [
  {
   "cell_type": "markdown",
   "id": "856e0f66",
   "metadata": {},
   "source": [
    "# Quantum Linear Regression"
   ]
  },
  {
   "cell_type": "markdown",
   "id": "8d06796a",
   "metadata": {},
   "source": [
    "In any regression problem, we try to predict the continuous value of a variable yi ∈ ℝ\n",
    "given a set of input features x(1), x(2)…x(N)\n",
    " that can be represented as an N-dimensional \n",
    "input vector x ∈ ℝN. In linear regression, we consider the output to be a linear \n",
    "combination of the input features with some irreducible error component ei, as follows:"
   ]
  },
  {
   "cell_type": "code",
   "execution_count": 2,
   "id": "0b33ed64",
   "metadata": {},
   "outputs": [
    {
     "ename": "IndentationError",
     "evalue": "expected an indented block after function definition on line 4 (1412355321.py, line 7)",
     "output_type": "error",
     "traceback": [
      "\u001b[1;36m  Cell \u001b[1;32mIn[2], line 7\u001b[1;36m\u001b[0m\n\u001b[1;33m    self.nq = nq\u001b[0m\n\u001b[1;37m    ^\u001b[0m\n\u001b[1;31mIndentationError\u001b[0m\u001b[1;31m:\u001b[0m expected an indented block after function definition on line 4\n"
     ]
    }
   ],
   "source": [
    "import cirq\n",
    "import numpy as np\n",
    "class SwapTest:\n",
    "    def __init__(self,prepare_input_states=False,\n",
    "input_state_dim=None,nq=0,\n",
    "measure=False,copies=1000):\n",
    "    self.nq = nq\n",
    "    self.prepare_input_states = prepare_input_states\n",
    "    self.input_state_dim = input_state_dim\n",
    "    if input_state_dim is not None:\n",
    "    self.num_qubits_input_states = int(np.log2(self.input_state_dim))\n",
    "    print(self.num_qubits_input_states)\n",
    "    self.measure = measure\n",
    "    self.copies = copies\n",
    "    self.ancilla_qubit = cirq.LineQubit(self.nq)\n",
    "    self.nq += 1\n",
    "    if self.prepare_input_states:\n",
    "    if input_state_dim is None:\n",
    "    raise ValueError(\"Please enter avalid dimension for input states to compare\")\n",
    "    else:\n",
    "    self.num_qubits_input_states = int(np.log2(self.input_state_dim))\n",
    "    self.input_1 = [cirq.LineQubit(i)\n",
    "    for i in range(self.nq, self.nq +self.num_qubits_input_states)]\n",
    "    self.nq += self.num_qubits_input_states\n",
    "    self.input_2 = [cirq.LineQubit(i)\n",
    "    for i in range(self.nq, self.nq + self.num_qubits_input_states)]\n",
    "self.nq += self.num_qubits_input_states"
   ]
  },
  {
   "cell_type": "code",
   "execution_count": null,
   "id": "11455ed7",
   "metadata": {},
   "outputs": [],
   "source": []
  }
 ],
 "metadata": {
  "kernelspec": {
   "display_name": "Python 3 (ipykernel)",
   "language": "python",
   "name": "python3"
  },
  "language_info": {
   "codemirror_mode": {
    "name": "ipython",
    "version": 3
   },
   "file_extension": ".py",
   "mimetype": "text/x-python",
   "name": "python",
   "nbconvert_exporter": "python",
   "pygments_lexer": "ipython3",
   "version": "3.11.5"
  }
 },
 "nbformat": 4,
 "nbformat_minor": 5
}
