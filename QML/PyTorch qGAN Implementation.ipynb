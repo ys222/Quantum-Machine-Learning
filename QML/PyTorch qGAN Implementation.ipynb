{
 "cells": [
  {
   "cell_type": "markdown",
   "id": "bbaff7f2",
   "metadata": {},
   "source": [
    "# PyTorch qGAN Implementation"
   ]
  },
  {
   "cell_type": "markdown",
   "id": "9f887f24",
   "metadata": {},
   "source": [
    "# Overview"
   ]
  },
  {
   "cell_type": "markdown",
   "id": "9b61b731",
   "metadata": {},
   "source": [
    "This tutorial introduces step-by-step how to build a PyTorch-based Quantum Generative Adversarial Network algorithm.\n",
    "\n",
    "The tutorial is structured as follows:\n",
    "\n",
    "1.Introduction\n",
    "\n",
    "2.Data and Represtation\n",
    "\n",
    "3.Definitions of the Neural Networks\n",
    "\n",
    "4.Setting up the Training Loop\n",
    "\n",
    "5.Model Training\n",
    "\n",
    "6.Results: Cumulative Density Functions\n",
    "\n",
    "7.Conclusion"
   ]
  },
  {
   "cell_type": "markdown",
   "id": "58989e85",
   "metadata": {},
   "source": [
    "# 1. Introduction\n",
    "The qGAN [1] is a hybrid quantum-classical algorithm used for generative modeling tasks. The algorithm uses the interplay of a quantum generator G@\n",
    ", i.e., an ansatz (parametrized quantum circuit), and a classical discriminator D& \n",
    ", a neural network, to learn the underlying probability distribution given training data.\n",
    "\n",
    "The generator and discriminator are trained in alternating optimization steps, where the generator aims at generating probabilities that will be classified by the discriminator as training data values (i.e, probabilities from the real training distribution), and the discriminator tries to differentiate between original distribution and probabilities from the generator (in other words, telling apart the real and generated distributions). The final goal is for the quantum generator to learn a representation for the target probability distribution. The trained quantum generator can, thus, be used to load a quantum state which is an approximate model of the target distribution.\n",
    "\n",
    "References:\n",
    "\n",
    "[1] Zoufal et al., Quantum Generative Adversarial Networks for learning and loading random distributions"
   ]
  },
  {
   "cell_type": "markdown",
   "id": "ecdec1b5",
   "metadata": {},
   "source": [
    "# 1.1. qGANs for Loading Random Distributions\n",
    "Given \n",
    "-dimensional data samples, we employ a quantum Generative Adversarial Network (qGAN) to learn a random distribution and to load it directly into a quantum state:\n",
    "\n",
    " \n",
    "where \n",
    " describe the occurrence probabilities of the basis states \n",
    ".\n",
    "\n",
    "The aim of the qGAN training is to generate a state \n",
    " where \n",
    ", for \n",
    ", describe a probability distribution that is close to the distribution underlying the training data \n",
    ".\n",
    "\n",
    "For further details please refer to Quantum Generative Adversarial Networks for Learning and Loading Random Distributions Zoufal, Lucchi, Woerner [2019].\n",
    "\n",
    "For an example of how to use a trained qGAN in an application, the pricing of financial derivatives, please see the Option Pricing with qGANs tutorial."
   ]
  },
  {
   "cell_type": "markdown",
   "id": "0599681b",
   "metadata": {},
   "source": [
    "# 2. Data and Representation\n",
    "First, we need to load our training data \n",
    ".\n",
    "\n",
    "In this tutorial, the training data is given by a 2D multivariate normal distribution.\n",
    "\n",
    "The goal of the generator is to learn how to represent such distribution, and the trained generator should correspond to an \n",
    "-qubit quantum state\n",
    " \n",
    "where the basis states \n",
    " represent the data items in the training data set \n",
    " with \n",
    " and \n",
    " refers to the sampling probability of \n",
    ".\n",
    "\n",
    "To facilitate this representation, we need to map the samples from the multivariate normal distribution to discrete values. The number of values that can be represented depends on the number of qubits used for the mapping. Hence, the data resolution is defined by the number of qubits. If we use \n",
    " qubits to represent one feature, we have \n",
    " discrete values.\n",
    "\n",
    "We first begin by fixing seeds in the random number generators for reproducibility of the outcome in this tutorial."
   ]
  },
  {
   "cell_type": "code",
   "execution_count": 2,
   "id": "695f9982",
   "metadata": {},
   "outputs": [],
   "source": [
    "import torch\n",
    "from qiskit_algorithms.utils import algorithm_globals\n",
    "\n",
    "algorithm_globals.random_seed = 123456\n",
    "_ = torch.manual_seed(123456)  # suppress output"
   ]
  },
  {
   "cell_type": "markdown",
   "id": "9b02e110",
   "metadata": {},
   "source": [
    "We fix the number of dimensions, the discretization number and compute the number of qubits required as 2^3 = 8\n",
    "."
   ]
  },
  {
   "cell_type": "code",
   "execution_count": 3,
   "id": "8c14be4a",
   "metadata": {},
   "outputs": [],
   "source": [
    "import numpy as np\n",
    "\n",
    "num_dim = 2\n",
    "num_discrete_values = 8\n",
    "num_qubits = num_dim * int(np.log2(num_discrete_values))"
   ]
  },
  {
   "cell_type": "markdown",
   "id": "4a84ab91",
   "metadata": {},
   "source": [
    "Then, we prepare a discrete distribution from the continuous 2D normal distribution. We evaluate the continuous probability density function (PDF) on the grid \n",
    " with a discretization of \n",
    " values per feature. Thus, we have \n",
    " values of the PDF. Since this will be a discrete distribution we normalize the obtained probabilities."
   ]
  },
  {
   "cell_type": "code",
   "execution_count": null,
   "id": "d79c99b1",
   "metadata": {},
   "outputs": [],
   "source": [
    "from scipy.stats import multivariate_normal\n",
    "import numpy as np\n",
    "\n",
    "coords = np.linspace(-2, 2, num_discrete_values)\n",
    "rv = multivariate_normal(mean=[0.0, 0.0], cov=[[1, 0], [0, 1]], seed=algorithm_globals.random_seed)\n",
    "grid_elements = np.transpose([np.tile(coords, len(coords)), np.repeat(coords, len(coords))])\n",
    "prob_data = rv.pdf(grid_elements)\n",
    "prob_data = prob_data / np.sum(prob_data)"
   ]
  },
  {
   "cell_type": "markdown",
   "id": "0a3dabae",
   "metadata": {},
   "source": [
    "Let’s visualize our distribution. It is a nice bell-shaped bivariate normal distribution on a discrete grid."
   ]
  },
  {
   "cell_type": "code",
   "execution_count": null,
   "id": "5f234a61",
   "metadata": {},
   "outputs": [],
   "source": [
    "import matplotlib.pyplot as plt\n",
    "from matplotlib import cm\n",
    "\n",
    "mesh_x, mesh_y = np.meshgrid(coords, coords)\n",
    "grid_shape = (num_discrete_values, num_discrete_values)\n",
    "\n",
    "fig, ax = plt.subplots(figsize=(9, 9), subplot_kw={\"projection\": \"3d\"})\n",
    "prob_grid = np.reshape(prob_data, grid_shape)\n",
    "surf = ax.plot_surface(mesh_x, mesh_y, prob_grid, cmap=cm.coolwarm, linewidth=0, antialiased=False)\n",
    "fig.colorbar(surf, shrink=0.5, aspect=5)\n",
    "plt.show()"
   ]
  },
  {
   "cell_type": "markdown",
   "id": "458ece53",
   "metadata": {},
   "source": [
    "# 3. Definitions of the Neural Networks\n",
    "In this section we define two neural networks as described above:\n",
    "\n",
    "A quantum generator as a quantum neural network.\n",
    "\n",
    "A classical discriminator as a PyTorch-based neural network.\n",
    "\n",
    "## 3.1. Definition of the quantum neural network ansatz\n",
    "Now, we define the parameterized quantum circuit \n",
    " with \n",
    " which will be used in our quantum generator.\n",
    "\n",
    "To implement the quantum generator, we choose a hardware efficient ansatz with \n",
    " repetitions. The ansatz implements \n",
    ", \n",
    " rotations and \n",
    " gates which takes a uniform distribution as an input state. Notably, for \n",
    " the generator’s parameters must be chosen carefully. For example, the circuit depth should be more than \n",
    " because higher circuit depths enable the representation of more complex structures. Here, we construct quite a deep circuit with a large number of parameters to be able to adequately capture and represent the distribution."
   ]
  },
  {
   "cell_type": "code",
   "execution_count": 4,
   "id": "fbb59bdb",
   "metadata": {},
   "outputs": [],
   "source": [
    "from qiskit import QuantumCircuit\n",
    "from qiskit.circuit.library import EfficientSU2\n",
    "\n",
    "qc = QuantumCircuit(num_qubits)\n",
    "qc.h(qc.qubits)\n",
    "\n",
    "ansatz = EfficientSU2(num_qubits, reps=6)\n",
    "qc.compose(ansatz, inplace=True)"
   ]
  },
  {
   "cell_type": "markdown",
   "id": "7f8b8762",
   "metadata": {},
   "source": [
    "Let’s draw our circuit and see what it looks like. On the plot we may notice a pattern that appears \n",
    " times."
   ]
  },
  {
   "cell_type": "code",
   "execution_count": 5,
   "id": "5f7750c0",
   "metadata": {},
   "outputs": [
    {
     "name": "stderr",
     "output_type": "stream",
     "text": [
      "C:\\Users\\yashr\\anaconda3\\New folder\\Anaconda3\\Lib\\site-packages\\qiskit\\visualization\\circuit\\matplotlib.py:266: FutureWarning: The default matplotlib drawer scheme will be changed to \"iqp\" in a following release. To silence this warning, specify the current default explicitly as style=\"clifford\", or the new default as style=\"iqp\".\n",
      "  self._style, def_font_ratio = load_style(self._style)\n"
     ]
    },
    {
     "data": {
      "image/png": "[encoded data removed]",
      "text/plain": [
       "<Figure size 2210.55x1120.39 with 1 Axes>"
      ]
     },
     "execution_count": 5,
     "metadata": {},
     "output_type": "execute_result"
    }
   ],
   "source": [
    "qc.decompose().draw(\"mpl\")"
   ]
  },
  {
   "cell_type": "markdown",
   "id": "39cf8b54",
   "metadata": {},
   "source": [
    "Let’s print the number of trainable parameters."
   ]
  },
  {
   "cell_type": "code",
   "execution_count": 6,
   "id": "ea6a564c",
   "metadata": {},
   "outputs": [
    {
     "data": {
      "text/plain": [
       "84"
      ]
     },
     "execution_count": 6,
     "metadata": {},
     "output_type": "execute_result"
    }
   ],
   "source": [
    "qc.num_parameters"
   ]
  },
  {
   "cell_type": "markdown",
   "id": "d08ff4bd",
   "metadata": {},
   "source": [
    "# 3.2. Definition of the quantum generator\n",
    "We start defining the generator by creating a sampler for the ansatz. The reference implementation is a statevector-based implementation, thus it returns exact probabilities as a result of circuit execution. We add the shots parameter to add some noise to the results. In this case the implementation samples probabilities from the multinomial distribution constructed from the measured quasi probabilities. And as usual we fix the seed for reproducibility purposes."
   ]
  },
  {
   "cell_type": "code",
   "execution_count": 7,
   "id": "c949193c",
   "metadata": {},
   "outputs": [],
   "source": [
    "from qiskit.primitives import Sampler\n",
    "\n",
    "shots = 10000\n",
    "sampler = Sampler(options={\"shots\": shots, \"seed\": algorithm_globals.random_seed})"
   ]
  },
  {
   "cell_type": "markdown",
   "id": "81f63aaa",
   "metadata": {},
   "source": [
    "Next, we define a function that creates the quantum generator from a given parameterized quantum circuit. Inside this function we create a neural network that returns the quasi probability distribution evaluated by the underlying Sampler. We fix initial_weights for reproducibility purposes. In the end we wrap the created quantum neural network in TorchConnector to make use of PyTorch-based training."
   ]
  },
  {
   "cell_type": "code",
   "execution_count": 8,
   "id": "fc57f757",
   "metadata": {},
   "outputs": [],
   "source": [
    "from qiskit_machine_learning.connectors import TorchConnector\n",
    "from qiskit_machine_learning.neural_networks import SamplerQNN\n",
    "\n",
    "\n",
    "def create_generator() -> TorchConnector:\n",
    "    qnn = SamplerQNN(\n",
    "        circuit=qc,\n",
    "        sampler=sampler,\n",
    "        input_params=[],\n",
    "        weight_params=qc.parameters,\n",
    "        sparse=False,\n",
    "    )\n",
    "\n",
    "    initial_weights = algorithm_globals.random.random(qc.num_parameters)\n",
    "    return TorchConnector(qnn, initial_weights)"
   ]
  },
  {
   "cell_type": "markdown",
   "id": "12a74019",
   "metadata": {},
   "source": [
    "# 3.3. Definition of the classical discriminator\n",
    "Next, we define a PyTorch-based classical neural network that represents the classical discriminator. The underlying gradients can be automatically computed with PyTorch."
   ]
  },
  {
   "cell_type": "code",
   "execution_count": 9,
   "id": "d8f620a5",
   "metadata": {},
   "outputs": [],
   "source": [
    "from torch import nn\n",
    "\n",
    "\n",
    "class Discriminator(nn.Module):\n",
    "    def __init__(self, input_size):\n",
    "        super(Discriminator, self).__init__()\n",
    "\n",
    "        self.linear_input = nn.Linear(input_size, 20)\n",
    "        self.leaky_relu = nn.LeakyReLU(0.2)\n",
    "        self.linear20 = nn.Linear(20, 1)\n",
    "        self.sigmoid = nn.Sigmoid()\n",
    "\n",
    "    def forward(self, input: torch.Tensor) -> torch.Tensor:\n",
    "        x = self.linear_input(input)\n",
    "        x = self.leaky_relu(x)\n",
    "        x = self.linear20(x)\n",
    "        x = self.sigmoid(x)\n",
    "        return x"
   ]
  },
  {
   "cell_type": "markdown",
   "id": "0fb85095",
   "metadata": {},
   "source": [
    "# 3.4. Create a generator and a discriminator\n",
    "Now we create a generator and a discriminator."
   ]
  },
  {
   "cell_type": "code",
   "execution_count": 10,
   "id": "4021aac1",
   "metadata": {},
   "outputs": [],
   "source": [
    "generator = create_generator()\n",
    "discriminator = Discriminator(num_dim)"
   ]
  },
  {
   "cell_type": "markdown",
   "id": "88641d0e",
   "metadata": {},
   "source": [
    "# 4. Setting up the Training Loop\n",
    "In this section we set up:\n",
    "\n",
    "A loss function for the generator and discriminator.\n",
    "\n",
    "Optimizers for both.\n",
    "\n",
    "A utility plotting function to visualize training process.\n",
    "\n",
    "## 4.1. Definition of the loss functions\n",
    "We want to train the generator and the discriminator with binary cross entropy as the loss function:\n",
    "\n",
    " \n",
    "where \n",
    " refers to a data sample and \n",
    " to the corresponding label.\n",
    "\n",
    "Since PyTorch’s binary_cross_entropy is not differentiable with respect to weights, we implement the loss function manually to be able to evaluate gradients."
   ]
  },
  {
   "cell_type": "code",
   "execution_count": 11,
   "id": "152cf804",
   "metadata": {},
   "outputs": [],
   "source": [
    "def adversarial_loss(input, target, w):\n",
    "    bce_loss = target * torch.log(input) + (1 - target) * torch.log(1 - input)\n",
    "    weighted_loss = w * bce_loss\n",
    "    total_loss = -torch.sum(weighted_loss)\n",
    "    return total_loss"
   ]
  },
  {
   "cell_type": "markdown",
   "id": "1713ccfa",
   "metadata": {},
   "source": [
    "# 4.2. Definition of the optimizers\n",
    "In order to train the generator and discriminator, we need to define optimization schemes. In the following, we employ a momentum based optimizer called Adam, see Kingma et al., Adam: A method for stochastic optimization for more details."
   ]
  },
  {
   "cell_type": "code",
   "execution_count": 12,
   "id": "1cf7222e",
   "metadata": {},
   "outputs": [],
   "source": [
    "from torch.optim import Adam\n",
    "\n",
    "lr = 0.01  # learning rate\n",
    "b1 = 0.7  # first momentum parameter\n",
    "b2 = 0.999  # second momentum parameter\n",
    "\n",
    "generator_optimizer = Adam(generator.parameters(), lr=lr, betas=(b1, b2), weight_decay=0.005)\n",
    "discriminator_optimizer = Adam(\n",
    "    discriminator.parameters(), lr=lr, betas=(b1, b2), weight_decay=0.005\n",
    ")"
   ]
  },
  {
   "cell_type": "markdown",
   "id": "6596da60",
   "metadata": {},
   "source": [
    "# 4.3. Visualization of the training process\n",
    "We will visualize what is happening during the training by plotting the evolution of the generator’s and the discriminator’s loss functions during the training, as well as the progress in the relative entropy between the trained and the target distribution. We define a function that plots the loss functions and relative entropy. We call this function once an epoch of training is complete.\n",
    "\n",
    "Visualization of the training process begins when training data is collected across two epochs."
   ]
  },
  {
   "cell_type": "code",
   "execution_count": 13,
   "id": "9f553b2c",
   "metadata": {},
   "outputs": [],
   "source": [
    "from IPython.display import clear_output\n",
    "\n",
    "\n",
    "def plot_training_progress():\n",
    "    # we don't plot if we don't have enough data\n",
    "    if len(generator_loss_values) < 2:\n",
    "        return\n",
    "\n",
    "    clear_output(wait=True)\n",
    "    fig, (ax1, ax2) = plt.subplots(1, 2, figsize=(18, 9))\n",
    "\n",
    "    # Generator Loss\n",
    "    ax1.set_title(\"Loss\")\n",
    "    ax1.plot(generator_loss_values, label=\"generator loss\", color=\"royalblue\")\n",
    "    ax1.plot(discriminator_loss_values, label=\"discriminator loss\", color=\"magenta\")\n",
    "    ax1.legend(loc=\"best\")\n",
    "    ax1.set_xlabel(\"Iteration\")\n",
    "    ax1.set_ylabel(\"Loss\")\n",
    "    ax1.grid()\n",
    "\n",
    "    # Relative Entropy\n",
    "    ax2.set_title(\"Relative entropy\")\n",
    "    ax2.plot(entropy_values)\n",
    "    ax2.set_xlabel(\"Iteration\")\n",
    "    ax2.set_ylabel(\"Relative entropy\")\n",
    "    ax2.grid()\n",
    "\n",
    "    plt.show()"
   ]
  },
  {
   "cell_type": "markdown",
   "id": "daeabd61",
   "metadata": {},
   "source": [
    "# 5. Model Training\n",
    "In the training loop we monitor not only loss functions, but relative entropy as well. The relative entropy describes a distance metric for distributions. Hence, we can use it to benchmark how close/far away the trained distribution is from the target distribution.\n",
    "\n",
    "Now, we are ready to train our model. It may take some time to train the model so be patient."
   ]
  },
  {
   "cell_type": "code",
   "execution_count": null,
   "id": "dd861c55",
   "metadata": {},
   "outputs": [],
   "source": [
    "import time\n",
    "from scipy.stats import multivariate_normal, entropy\n",
    "\n",
    "n_epochs = 50\n",
    "\n",
    "num_qnn_outputs = num_discrete_values**num_dim\n",
    "\n",
    "generator_loss_values = []\n",
    "discriminator_loss_values = []\n",
    "entropy_values = []\n",
    "\n",
    "start = time.time()\n",
    "for epoch in range(n_epochs):\n",
    "\n",
    "    valid = torch.ones(num_qnn_outputs, 1, dtype=torch.float)\n",
    "    fake = torch.zeros(num_qnn_outputs, 1, dtype=torch.float)\n",
    "\n",
    "    # Configure input\n",
    "    real_dist = torch.tensor(prob_data, dtype=torch.float).reshape(-1, 1)\n",
    "\n",
    "    # Configure samples\n",
    "    samples = torch.tensor(grid_elements, dtype=torch.float)\n",
    "    disc_value = discriminator(samples)\n",
    "\n",
    "    # Generate data\n",
    "    gen_dist = generator(torch.tensor([])).reshape(-1, 1)\n",
    "\n",
    "    # Train generator\n",
    "    generator_optimizer.zero_grad()\n",
    "    generator_loss = adversarial_loss(disc_value, valid, gen_dist)\n",
    "\n",
    "    # store for plotting\n",
    "    generator_loss_values.append(generator_loss.detach().item())\n",
    "\n",
    "    generator_loss.backward(retain_graph=True)\n",
    "    generator_optimizer.step()\n",
    "\n",
    "    # Train Discriminator\n",
    "    discriminator_optimizer.zero_grad()\n",
    "\n",
    "    real_loss = adversarial_loss(disc_value, valid, real_dist)\n",
    "    fake_loss = adversarial_loss(disc_value, fake, gen_dist.detach())\n",
    "    discriminator_loss = (real_loss + fake_loss) / 2\n",
    "\n",
    "    # Store for plotting\n",
    "    discriminator_loss_values.append(discriminator_loss.detach().item())\n",
    "\n",
    "    discriminator_loss.backward()\n",
    "    discriminator_optimizer.step()\n",
    "\n",
    "    entropy_value = entropy(gen_dist.detach().squeeze().numpy(), prob_data)\n",
    "    entropy_values.append(entropy_value)\n",
    "\n",
    "    plot_training_progress()\n",
    "\n",
    "elapsed = time.time() - start\n",
    "print(f\"Fit in {elapsed:0.2f} sec\")"
   ]
  },
  {
   "cell_type": "markdown",
   "id": "6fe2927b",
   "metadata": {},
   "source": [
    "# 6. Results: Cumulative Density Functions\n",
    "In this section we compare the cumulative distribution function (CDF) of the trained distribution to the CDF of the target distribution.\n",
    "\n",
    "First, we generate a new probability distribution with PyTorch autograd turned off as we are not going to train the model anymore."
   ]
  },
  {
   "cell_type": "code",
   "execution_count": 15,
   "id": "b5308d81",
   "metadata": {},
   "outputs": [],
   "source": [
    "with torch.no_grad():\n",
    "    generated_probabilities = generator().numpy()"
   ]
  },
  {
   "cell_type": "markdown",
   "id": "2f63fd68",
   "metadata": {},
   "source": [
    "And then, we plot the cumulative distribution functions of the generated distribution, original distribution, and the difference between them. Please, be careful, the scale on the third plot is not the same as on the first and second plot, and the actual difference between the two plotted CDFs is pretty small."
   ]
  },
  {
   "cell_type": "code",
   "execution_count": null,
   "id": "b0954eff",
   "metadata": {},
   "outputs": [],
   "source": [
    "fig = plt.figure(figsize=(18, 9))\n",
    "\n",
    "# Generated CDF\n",
    "gen_prob_grid = np.reshape(np.cumsum(generated_probabilities), grid_shape)\n",
    "\n",
    "ax1 = fig.add_subplot(1, 3, 1, projection=\"3d\")\n",
    "ax1.set_title(\"Generated CDF\")\n",
    "ax1.plot_surface(mesh_x, mesh_y, gen_prob_grid, linewidth=0, antialiased=False, cmap=cm.coolwarm)\n",
    "ax1.set_zlim(-0.05, 1.05)\n",
    "\n",
    "# Real CDF\n",
    "real_prob_grid = np.reshape(np.cumsum(prob_data), grid_shape)\n",
    "\n",
    "ax2 = fig.add_subplot(1, 3, 2, projection=\"3d\")\n",
    "ax2.set_title(\"True CDF\")\n",
    "ax2.plot_surface(mesh_x, mesh_y, real_prob_grid, linewidth=0, antialiased=False, cmap=cm.coolwarm)\n",
    "ax2.set_zlim(-0.05, 1.05)\n",
    "\n",
    "# Difference\n",
    "ax3 = fig.add_subplot(1, 3, 3, projection=\"3d\")\n",
    "ax3.set_title(\"Difference between CDFs\")\n",
    "ax3.plot_surface(\n",
    "    mesh_x, mesh_y, real_prob_grid - gen_prob_grid, linewidth=2, antialiased=False, cmap=cm.coolwarm\n",
    ")\n",
    "ax3.set_zlim(-0.05, 0.1)\n",
    "plt.show()"
   ]
  },
  {
   "cell_type": "markdown",
   "id": "73847fbf",
   "metadata": {},
   "source": [
    "# 7. Conclusion\n",
    "Quantum generative adversarial networks employ the interplay of a generator and discriminator to map an approximate representation of a probability distribution underlying given data samples into a quantum channel. This tutorial presents a self-standing PyTorch-based qGAN implementation where the generator is given by a quantum channel, i.e., a variational quantum circuit, and the discriminator by a classical neural network, and discusses the application of efficient learning and loading of generic probability distributions into quantum states. The loading requires \n",
    " gates and can thus enable the use of potentially advantageous quantum algorithms."
   ]
  },
  {
   "cell_type": "code",
   "execution_count": 18,
   "id": "0efc1589",
   "metadata": {},
   "outputs": [
    {
     "data": {
      "text/html": [
       "<h3>Version Information</h3><table><tr><th>Software</th><th>Version</th></tr><tr><td><code>qiskit</code></td><td>0.45.1</td></tr><tr><td><code>qiskit_machine_learning</code></td><td>0.7.1</td></tr><tr><td><code>qiskit_algorithms</code></td><td>0.2.1</td></tr><tr><th colspan='2'>System information</th></tr><tr><td>Python version</td><td>3.11.5</td></tr><tr><td>Python compiler</td><td>MSC v.1916 64 bit (AMD64)</td></tr><tr><td>Python build</td><td>main, Sep 11 2023 13:26:23</td></tr><tr><td>OS</td><td>Windows</td></tr><tr><td>CPUs</td><td>2</td></tr><tr><td>Memory (Gb)</td><td>7.878513336181641</td></tr><tr><td colspan='2'>Wed Dec 20 16:43:09 2023 India Standard Time</td></tr></table>"
      ],
      "text/plain": [
       "<IPython.core.display.HTML object>"
      ]
     },
     "metadata": {},
     "output_type": "display_data"
    },
    {
     "data": {
      "text/html": [
       "<div style='width: 100%; background-color:#d5d9e0;padding-left: 10px; padding-bottom: 10px; padding-right: 10px; padding-top: 5px'><h3>This code is a part of Qiskit</h3><p>&copy; Copyright IBM 2017, 2023.</p><p>This code is licensed under the Apache License, Version 2.0. You may<br>obtain a copy of this license in the LICENSE.txt file in the root directory<br> of this source tree or at http://www.apache.org/licenses/LICENSE-2.0.<p>Any modifications or derivative works of this code must retain this<br>copyright notice, and modified files need to carry a notice indicating<br>that they have been altered from the originals.</p></div>"
      ],
      "text/plain": [
       "<IPython.core.display.HTML object>"
      ]
     },
     "metadata": {},
     "output_type": "display_data"
    }
   ],
   "source": [
    "import qiskit.tools.jupyter\n",
    "\n",
    "%qiskit_version_table\n",
    "%qiskit_copyright"
   ]
  },
  {
   "cell_type": "code",
   "execution_count": null,
   "id": "40bb98b4",
   "metadata": {},
   "outputs": [],
   "source": []
  }
 ],
 "metadata": {
  "kernelspec": {
   "display_name": "Python 3 (ipykernel)",
   "language": "python",
   "name": "python3"
  },
  "language_info": {
   "codemirror_mode": {
    "name": "ipython",
    "version": 3
   },
   "file_extension": ".py",
   "mimetype": "text/x-python",
   "name": "python",
   "nbconvert_exporter": "python",
   "pygments_lexer": "ipython3",
   "version": "3.11.5"
  }
 },
 "nbformat": 4,
 "nbformat_minor": 5
}
