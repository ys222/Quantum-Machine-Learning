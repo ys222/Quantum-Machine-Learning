{
 "cells": [
  {
   "cell_type": "markdown",
   "metadata": {
    "colab_type": "text",
    "id": "xLOXFOT5Q40E"
   },
   "source": [
    "##### Copyright 2020 The TensorFlow Authors."
   ]
  },
  {
   "cell_type": "code",
   "execution_count": 1,
   "metadata": {
    "cellView": "form",
    "colab": {},
    "colab_type": "code",
    "execution": {
     "iopub.execute_input": "2023-08-28T11:16:55.965736Z",
     "iopub.status.busy": "2023-08-28T11:16:55.965190Z",
     "iopub.status.idle": "2023-08-28T11:16:55.968960Z",
     "shell.execute_reply": "2023-08-28T11:16:55.968327Z"
    },
    "id": "iiQkM5ZgQ8r2"
   },
   "outputs": [],
   "source": [
    "#@title Licensed under the Apache License, Version 2.0 (the \"License\");\n",
    "# you may not use this file except in compliance with the License.\n",
    "# You may obtain a copy of the License at\n",
    "#\n",
    "# https://www.apache.org/licenses/LICENSE-2.0\n",
    "#\n",
    "# Unless required by applicable law or agreed to in writing, software\n",
    "# distributed under the License is distributed on an \"AS IS\" BASIS,\n",
    "# WITHOUT WARRANTIES OR CONDITIONS OF ANY KIND, either express or implied.\n",
    "# See the License for the specific language governing permissions and\n",
    "# limitations under the License."
   ]
  },
  {
   "cell_type": "markdown",
   "metadata": {
    "colab_type": "text",
    "id": "j6331ZSsQGY3"
   },
   "source": [
    "# Calculate gradients"
   ]
  },
  {
   "cell_type": "markdown",
   "metadata": {
    "colab_type": "text",
    "id": "i9Jcnb8bQQyd"
   },
   "source": [
    "<table class=\"tfo-notebook-buttons\" align=\"left\">\n",
    "  <td>\n",
    "    <a target=\"_blank\" href=\"https://www.tensorflow.org/quantum/tutorials/gradients\"><img src=\"https://www.tensorflow.org/images/tf_logo_32px.png\" />View on TensorFlow.org</a>\n",
    "  </td>\n",
    "  <td>\n",
    "    <a target=\"_blank\" href=\"https://colab.research.google.com/github/tensorflow/quantum/blob/master/docs/tutorials/gradients.ipynb\"><img src=\"https://www.tensorflow.org/images/colab_logo_32px.png\" />Run in Google Colab</a>\n",
    "  </td>\n",
    "  <td>\n",
    "    <a target=\"_blank\" href=\"https://github.com/tensorflow/quantum/blob/master/docs/tutorials/gradients.ipynb\"><img src=\"https://www.tensorflow.org/images/GitHub-Mark-32px.png\" />View source on GitHub</a>\n",
    "  </td>\n",
    "  <td>\n",
    "    <a href=\"https://storage.googleapis.com/tensorflow_docs/quantum/docs/tutorials/gradients.ipynb\"><img src=\"https://www.tensorflow.org/images/download_logo_32px.png\" />Download notebook</a>\n",
    "  </td>\n",
    "</table>"
   ]
  },
  {
   "cell_type": "markdown",
   "metadata": {
    "colab_type": "text",
    "id": "FxkQA6oblNqI"
   },
   "source": [
    "This tutorial explores gradient calculation algorithms for the expectation values of quantum circuits.\n",
    "\n",
    "Calculating the gradient of the expectation value of a certain observable in a quantum circuit is an involved process. Expectation values of observables do not have the luxury of having analytic gradient formulas that are always easy to write down—unlike traditional machine learning transformations such as matrix multiplication or vector addition that have analytic gradient formulas which are easy to write down. As a result, there are different quantum gradient calculation methods that come in handy for different scenarios. This tutorial compares and contrasts two different differentiation schemes."
   ]
  },
  {
   "cell_type": "markdown",
   "metadata": {
    "colab_type": "text",
    "id": "pvG0gAJqGYJo"
   },
   "source": [
    "## Setup"
   ]
  },
  {
   "cell_type": "code",
   "execution_count": 2,
   "metadata": {
    "colab": {},
    "colab_type": "code",
    "execution": {
     "iopub.execute_input": "2023-08-28T11:16:55.972645Z",
     "iopub.status.busy": "2023-08-28T11:16:55.972093Z",
     "iopub.status.idle": "2023-08-28T11:17:19.174204Z",
     "shell.execute_reply": "2023-08-28T11:17:19.173253Z"
    },
    "id": "TorxE5tnkvb2"
   },
   "outputs": [
    {
     "name": "stdout",
     "output_type": "stream",
     "text": [
      "Collecting tensorflow==2.7.0\n",
      "  Using cached tensorflow-2.7.0-cp39-cp39-manylinux2010_x86_64.whl (489.7 MB)\n",
      "Requirement already satisfied: numpy>=1.14.5 in /tmpfs/src/tf_docs_env/lib/python3.9/site-packages (from tensorflow==2.7.0) (1.26.0b1)\n",
      "Requirement already satisfied: absl-py>=0.4.0 in /tmpfs/src/tf_docs_env/lib/python3.9/site-packages (from tensorflow==2.7.0) (1.4.0)\n",
      "Requirement already satisfied: astunparse>=1.6.0 in /tmpfs/src/tf_docs_env/lib/python3.9/site-packages (from tensorflow==2.7.0) (1.6.3)\n",
      "Requirement already satisfied: libclang>=9.0.1 in /tmpfs/src/tf_docs_env/lib/python3.9/site-packages (from tensorflow==2.7.0) (16.0.6)\n",
      "Collecting flatbuffers<3.0,>=1.12 (from tensorflow==2.7.0)\n",
      "  Using cached flatbuffers-2.0.7-py2.py3-none-any.whl (26 kB)\n",
      "Requirement already satisfied: google-pasta>=0.1.1 in /tmpfs/src/tf_docs_env/lib/python3.9/site-packages (from tensorflow==2.7.0) (0.2.0)\n",
      "Requirement already satisfied: h5py>=2.9.0 in /tmpfs/src/tf_docs_env/lib/python3.9/site-packages (from tensorflow==2.7.0) (3.9.0)\n",
      "Collecting keras-preprocessing>=1.1.1 (from tensorflow==2.7.0)\n",
      "  Using cached Keras_Preprocessing-1.1.2-py2.py3-none-any.whl (42 kB)\n",
      "Requirement already satisfied: opt-einsum>=2.3.2 in /tmpfs/src/tf_docs_env/lib/python3.9/site-packages (from tensorflow==2.7.0) (3.3.0)\n",
      "Requirement already satisfied: protobuf>=3.9.2 in /tmpfs/src/tf_docs_env/lib/python3.9/site-packages (from tensorflow==2.7.0) (3.20.3)\n",
      "Requirement already satisfied: six>=1.12.0 in /tmpfs/src/tf_docs_env/lib/python3.9/site-packages (from tensorflow==2.7.0) (1.16.0)\n",
      "Requirement already satisfied: termcolor>=1.1.0 in /tmpfs/src/tf_docs_env/lib/python3.9/site-packages (from tensorflow==2.7.0) (2.3.0)\n",
      "Requirement already satisfied: typing-extensions>=3.6.6 in /tmpfs/src/tf_docs_env/lib/python3.9/site-packages (from tensorflow==2.7.0) (4.7.1)\n",
      "Requirement already satisfied: wheel<1.0,>=0.32.0 in /tmpfs/src/tf_docs_env/lib/python3.9/site-packages (from tensorflow==2.7.0) (0.41.1)\n",
      "Requirement already satisfied: wrapt>=1.11.0 in /tmpfs/src/tf_docs_env/lib/python3.9/site-packages (from tensorflow==2.7.0) (1.14.1)\n",
      "Collecting gast<0.5.0,>=0.2.1 (from tensorflow==2.7.0)\n",
      "  Using cached gast-0.4.0-py3-none-any.whl (9.8 kB)\n",
      "Requirement already satisfied: tensorboard~=2.6 in /tmpfs/src/tf_docs_env/lib/python3.9/site-packages (from tensorflow==2.7.0) (2.14.0)\n",
      "Collecting tensorflow-estimator<2.8,~=2.7.0rc0 (from tensorflow==2.7.0)\n",
      "  Using cached tensorflow_estimator-2.7.0-py2.py3-none-any.whl (463 kB)\n",
      "Collecting keras<2.8,>=2.7.0rc0 (from tensorflow==2.7.0)\n",
      "  Using cached keras-2.7.0-py2.py3-none-any.whl (1.3 MB)\n",
      "Requirement already satisfied: tensorflow-io-gcs-filesystem>=0.21.0 in /tmpfs/src/tf_docs_env/lib/python3.9/site-packages (from tensorflow==2.7.0) (0.33.0)\n",
      "Requirement already satisfied: grpcio<2.0,>=1.24.3 in /tmpfs/src/tf_docs_env/lib/python3.9/site-packages (from tensorflow==2.7.0) (1.58.0rc1)\n",
      "Requirement already satisfied: google-auth<3,>=1.6.3 in /tmpfs/src/tf_docs_env/lib/python3.9/site-packages (from tensorboard~=2.6->tensorflow==2.7.0) (2.22.0)\n",
      "Requirement already satisfied: google-auth-oauthlib<1.1,>=0.5 in /tmpfs/src/tf_docs_env/lib/python3.9/site-packages (from tensorboard~=2.6->tensorflow==2.7.0) (1.0.0)\n",
      "Requirement already satisfied: markdown>=2.6.8 in /tmpfs/src/tf_docs_env/lib/python3.9/site-packages (from tensorboard~=2.6->tensorflow==2.7.0) (3.4.4)\n",
      "Requirement already satisfied: requests<3,>=2.21.0 in /tmpfs/src/tf_docs_env/lib/python3.9/site-packages (from tensorboard~=2.6->tensorflow==2.7.0) (2.31.0)\n",
      "Requirement already satisfied: setuptools>=41.0.0 in /tmpfs/src/tf_docs_env/lib/python3.9/site-packages (from tensorboard~=2.6->tensorflow==2.7.0) (68.1.2)\n",
      "Requirement already satisfied: tensorboard-data-server<0.8.0,>=0.7.0 in /tmpfs/src/tf_docs_env/lib/python3.9/site-packages (from tensorboard~=2.6->tensorflow==2.7.0) (0.7.1)\n",
      "Requirement already satisfied: werkzeug>=1.0.1 in /tmpfs/src/tf_docs_env/lib/python3.9/site-packages (from tensorboard~=2.6->tensorflow==2.7.0) (2.3.7)\n",
      "Requirement already satisfied: cachetools<6.0,>=2.0.0 in /tmpfs/src/tf_docs_env/lib/python3.9/site-packages (from google-auth<3,>=1.6.3->tensorboard~=2.6->tensorflow==2.7.0) (5.3.1)\n",
      "Requirement already satisfied: pyasn1-modules>=0.2.1 in /tmpfs/src/tf_docs_env/lib/python3.9/site-packages (from google-auth<3,>=1.6.3->tensorboard~=2.6->tensorflow==2.7.0) (0.3.0)\n",
      "Requirement already satisfied: rsa<5,>=3.1.4 in /tmpfs/src/tf_docs_env/lib/python3.9/site-packages (from google-auth<3,>=1.6.3->tensorboard~=2.6->tensorflow==2.7.0) (4.9)\n",
      "Requirement already satisfied: urllib3<2.0 in /tmpfs/src/tf_docs_env/lib/python3.9/site-packages (from google-auth<3,>=1.6.3->tensorboard~=2.6->tensorflow==2.7.0) (1.26.16)\n",
      "Requirement already satisfied: requests-oauthlib>=0.7.0 in /tmpfs/src/tf_docs_env/lib/python3.9/site-packages (from google-auth-oauthlib<1.1,>=0.5->tensorboard~=2.6->tensorflow==2.7.0) (1.3.1)\n",
      "Requirement already satisfied: importlib-metadata>=4.4 in /tmpfs/src/tf_docs_env/lib/python3.9/site-packages (from markdown>=2.6.8->tensorboard~=2.6->tensorflow==2.7.0) (6.8.0)\n",
      "Requirement already satisfied: charset-normalizer<4,>=2 in /tmpfs/src/tf_docs_env/lib/python3.9/site-packages (from requests<3,>=2.21.0->tensorboard~=2.6->tensorflow==2.7.0) (3.2.0)\n",
      "Requirement already satisfied: idna<4,>=2.5 in /tmpfs/src/tf_docs_env/lib/python3.9/site-packages (from requests<3,>=2.21.0->tensorboard~=2.6->tensorflow==2.7.0) (3.4)\n",
      "Requirement already satisfied: certifi>=2017.4.17 in /tmpfs/src/tf_docs_env/lib/python3.9/site-packages (from requests<3,>=2.21.0->tensorboard~=2.6->tensorflow==2.7.0) (2023.7.22)\n",
      "Requirement already satisfied: MarkupSafe>=2.1.1 in /tmpfs/src/tf_docs_env/lib/python3.9/site-packages (from werkzeug>=1.0.1->tensorboard~=2.6->tensorflow==2.7.0) (2.1.3)\n",
      "Requirement already satisfied: zipp>=0.5 in /tmpfs/src/tf_docs_env/lib/python3.9/site-packages (from importlib-metadata>=4.4->markdown>=2.6.8->tensorboard~=2.6->tensorflow==2.7.0) (3.16.2)\n",
      "Requirement already satisfied: pyasn1<0.6.0,>=0.4.6 in /tmpfs/src/tf_docs_env/lib/python3.9/site-packages (from pyasn1-modules>=0.2.1->google-auth<3,>=1.6.3->tensorboard~=2.6->tensorflow==2.7.0) (0.5.0)\n",
      "Requirement already satisfied: oauthlib>=3.0.0 in /tmpfs/src/tf_docs_env/lib/python3.9/site-packages (from requests-oauthlib>=0.7.0->google-auth-oauthlib<1.1,>=0.5->tensorboard~=2.6->tensorflow==2.7.0) (3.2.2)\n",
      "Installing collected packages: tensorflow-estimator, keras, flatbuffers, keras-preprocessing, gast, tensorflow\n",
      "  Attempting uninstall: tensorflow-estimator\n",
      "    Found existing installation: tensorflow-estimator 2.14.0rc0\n",
      "    Uninstalling tensorflow-estimator-2.14.0rc0:\n",
      "      Successfully uninstalled tensorflow-estimator-2.14.0rc0\n",
      "  Attempting uninstall: keras\n",
      "    Found existing installation: keras 2.14.0rc0\n",
      "    Uninstalling keras-2.14.0rc0:\n",
      "      Successfully uninstalled keras-2.14.0rc0\n",
      "  Attempting uninstall: flatbuffers\n",
      "    Found existing installation: flatbuffers 23.5.26\n",
      "    Uninstalling flatbuffers-23.5.26:\n",
      "      Successfully uninstalled flatbuffers-23.5.26\n",
      "  Attempting uninstall: gast\n",
      "    Found existing installation: gast 0.5.4\n",
      "    Uninstalling gast-0.5.4:\n",
      "      Successfully uninstalled gast-0.5.4\n",
      "  Attempting uninstall: tensorflow\n",
      "    Found existing installation: tensorflow 2.14.0rc0\n",
      "    Uninstalling tensorflow-2.14.0rc0:\n",
      "      Successfully uninstalled tensorflow-2.14.0rc0\n",
      "Successfully installed flatbuffers-2.0.7 gast-0.4.0 keras-2.7.0 keras-preprocessing-1.1.2 tensorflow-2.7.0 tensorflow-estimator-2.7.0\n"
     ]
    }
   ],
   "source": [
    "!pip install tensorflow==2.7.0"
   ]
  },
  {
   "cell_type": "markdown",
   "metadata": {
    "colab_type": "text",
    "id": "OIbP5hklC338"
   },
   "source": [
    "Install TensorFlow Quantum:"
   ]
  },
  {
   "cell_type": "code",
   "execution_count": 3,
   "metadata": {
    "colab": {},
    "colab_type": "code",
    "execution": {
     "iopub.execute_input": "2023-08-28T11:17:19.178957Z",
     "iopub.status.busy": "2023-08-28T11:17:19.178261Z",
     "iopub.status.idle": "2023-08-28T11:17:36.002425Z",
     "shell.execute_reply": "2023-08-28T11:17:36.001321Z"
    },
    "id": "saFHsRDpkvkH"
   },
   "outputs": [
    {
     "name": "stdout",
     "output_type": "stream",
     "text": [
      "Collecting tensorflow-quantum==0.7.2\n",
      "  Using cached tensorflow_quantum-0.7.2-cp39-cp39-manylinux_2_12_x86_64.manylinux2010_x86_64.whl (10.5 MB)\n",
      "Collecting cirq-core==0.13.1 (from tensorflow-quantum==0.7.2)\n",
      "  Using cached cirq_core-0.13.1-py3-none-any.whl (1.6 MB)\n",
      "Collecting cirq-google>=0.13.1 (from tensorflow-quantum==0.7.2)\n",
      "  Obtaining dependency information for cirq-google>=0.13.1 from https://files.pythonhosted.org/packages/7f/44/fd0b117b9663751b8bb11609159b651a691b3bfb1dbffd5e085e4bb3efee/cirq_google-1.2.0-py3-none-any.whl.metadata\n",
      "  Using cached cirq_google-1.2.0-py3-none-any.whl.metadata (2.0 kB)\n",
      "Collecting sympy==1.8 (from tensorflow-quantum==0.7.2)\n",
      "  Using cached sympy-1.8-py3-none-any.whl (6.1 MB)\n",
      "Collecting googleapis-common-protos==1.52.0 (from tensorflow-quantum==0.7.2)\n",
      "  Using cached googleapis_common_protos-1.52.0-py2.py3-none-any.whl (100 kB)\n",
      "Collecting google-api-core==1.21.0 (from tensorflow-quantum==0.7.2)\n",
      "  Using cached google_api_core-1.21.0-py2.py3-none-any.whl (90 kB)\n",
      "Collecting google-auth==1.18.0 (from tensorflow-quantum==0.7.2)\n",
      "  Using cached google_auth-1.18.0-py2.py3-none-any.whl (90 kB)\n",
      "Collecting protobuf==3.17.3 (from tensorflow-quantum==0.7.2)\n",
      "  Using cached protobuf-3.17.3-cp39-cp39-manylinux_2_5_x86_64.manylinux1_x86_64.whl (1.0 MB)\n",
      "Collecting duet~=0.2.0 (from cirq-core==0.13.1->tensorflow-quantum==0.7.2)\n",
      "  Obtaining dependency information for duet~=0.2.0 from https://files.pythonhosted.org/packages/be/95/03c8215f675349ff719cb44cd837c2468fdc0c05f55f523f3cad86bbdcc6/duet-0.2.9-py3-none-any.whl.metadata\n",
      "  Using cached duet-0.2.9-py3-none-any.whl.metadata (2.3 kB)\n",
      "Requirement already satisfied: matplotlib~=3.0 in /tmpfs/src/tf_docs_env/lib/python3.9/site-packages (from cirq-core==0.13.1->tensorflow-quantum==0.7.2) (3.7.2)\n",
      "Collecting networkx~=2.4 (from cirq-core==0.13.1->tensorflow-quantum==0.7.2)\n",
      "  Using cached networkx-2.8.8-py3-none-any.whl (2.0 MB)\n",
      "Requirement already satisfied: numpy~=1.16 in /tmpfs/src/tf_docs_env/lib/python3.9/site-packages (from cirq-core==0.13.1->tensorflow-quantum==0.7.2) (1.26.0b1)\n",
      "Requirement already satisfied: pandas in /tmpfs/src/tf_docs_env/lib/python3.9/site-packages (from cirq-core==0.13.1->tensorflow-quantum==0.7.2) (2.0.3)\n",
      "Requirement already satisfied: scipy in /tmpfs/src/tf_docs_env/lib/python3.9/site-packages (from cirq-core==0.13.1->tensorflow-quantum==0.7.2) (1.11.2)\n",
      "Collecting sortedcontainers~=2.0 (from cirq-core==0.13.1->tensorflow-quantum==0.7.2)\n",
      "  Using cached sortedcontainers-2.4.0-py2.py3-none-any.whl (29 kB)\n",
      "Requirement already satisfied: tqdm in /tmpfs/src/tf_docs_env/lib/python3.9/site-packages (from cirq-core==0.13.1->tensorflow-quantum==0.7.2) (4.66.1)\n",
      "Requirement already satisfied: typing-extensions in /tmpfs/src/tf_docs_env/lib/python3.9/site-packages (from cirq-core==0.13.1->tensorflow-quantum==0.7.2) (4.7.1)\n",
      "Requirement already satisfied: requests<3.0.0dev,>=2.18.0 in /tmpfs/src/tf_docs_env/lib/python3.9/site-packages (from google-api-core==1.21.0->tensorflow-quantum==0.7.2) (2.31.0)\n",
      "Requirement already satisfied: setuptools>=34.0.0 in /tmpfs/src/tf_docs_env/lib/python3.9/site-packages (from google-api-core==1.21.0->tensorflow-quantum==0.7.2) (68.1.2)\n",
      "Requirement already satisfied: six>=1.10.0 in /tmpfs/src/tf_docs_env/lib/python3.9/site-packages (from google-api-core==1.21.0->tensorflow-quantum==0.7.2) (1.16.0)\n",
      "Requirement already satisfied: pytz in /tmpfs/src/tf_docs_env/lib/python3.9/site-packages (from google-api-core==1.21.0->tensorflow-quantum==0.7.2) (2023.3)\n",
      "Collecting cachetools<5.0,>=2.0.0 (from google-auth==1.18.0->tensorflow-quantum==0.7.2)\n",
      "  Using cached cachetools-4.2.4-py3-none-any.whl (10 kB)\n",
      "Requirement already satisfied: pyasn1-modules>=0.2.1 in /tmpfs/src/tf_docs_env/lib/python3.9/site-packages (from google-auth==1.18.0->tensorflow-quantum==0.7.2) (0.3.0)\n",
      "Requirement already satisfied: rsa<5,>=3.1.4 in /tmpfs/src/tf_docs_env/lib/python3.9/site-packages (from google-auth==1.18.0->tensorflow-quantum==0.7.2) (4.9)\n",
      "Collecting mpmath>=0.19 (from sympy==1.8->tensorflow-quantum==0.7.2)\n",
      "  Using cached mpmath-1.3.0-py3-none-any.whl (536 kB)\n",
      "Collecting google-api-core[grpc]>=1.14.0 (from cirq-google>=0.13.1->tensorflow-quantum==0.7.2)\n",
      "  Obtaining dependency information for google-api-core[grpc]>=1.14.0 from https://files.pythonhosted.org/packages/6e/c4/c3cd048b6cbeba8d9ae50dd7643ac065b85237338aa7501b0efae91eb4d9/google_api_core-2.11.1-py3-none-any.whl.metadata\n",
      "  Using cached google_api_core-2.11.1-py3-none-any.whl.metadata (2.7 kB)\n",
      "Collecting proto-plus>=1.20.0 (from cirq-google>=0.13.1->tensorflow-quantum==0.7.2)\n",
      "  Obtaining dependency information for proto-plus>=1.20.0 from https://files.pythonhosted.org/packages/36/5b/e02636d221917d6fa2a61289b3f16002eb4c93d51c0191ac8e896d527182/proto_plus-1.22.3-py3-none-any.whl.metadata\n",
      "  Using cached proto_plus-1.22.3-py3-none-any.whl.metadata (2.2 kB)\n",
      "INFO: pip is looking at multiple versions of cirq-google to determine which version is compatible with other requirements. This could take a while.\n",
      "Collecting cirq-google>=0.13.1 (from tensorflow-quantum==0.7.2)\n",
      "  Using cached cirq_google-1.1.0-py3-none-any.whl (577 kB)\n",
      "Collecting google-api-core[grpc]<2.0.0dev,>=1.14.0 (from cirq-google>=0.13.1->tensorflow-quantum==0.7.2)\n",
      "  Using cached google_api_core-1.34.0-py3-none-any.whl (120 kB)\n",
      "Collecting cirq-google>=0.13.1 (from tensorflow-quantum==0.7.2)\n",
      "  Using cached cirq_google-1.0.0-py3-none-any.whl (576 kB)\n",
      "  Using cached cirq_google-0.15.0-py3-none-any.whl (641 kB)\n",
      "  Using cached cirq_google-0.14.1-py3-none-any.whl (541 kB)\n",
      "  Using cached cirq_google-0.14.0-py3-none-any.whl (541 kB)\n",
      "  Using cached cirq_google-0.13.1-py3-none-any.whl (437 kB)\n",
      "INFO: pip is looking at multiple versions of google-api-core[grpc] to determine which version is compatible with other requirements. This could take a while.\n",
      "Collecting google-api-core[grpc]<2.0.0dev,>=1.14.0 (from cirq-google>=0.13.1->tensorflow-quantum==0.7.2)\n",
      "  Using cached google_api_core-1.33.2-py3-none-any.whl (115 kB)\n",
      "  Using cached google_api_core-1.33.1-py3-none-any.whl (115 kB)\n",
      "  Using cached google_api_core-1.33.0-py3-none-any.whl (115 kB)\n",
      "  Using cached google_api_core-1.32.0-py2.py3-none-any.whl (93 kB)\n",
      "  Using cached google_api_core-1.31.6-py2.py3-none-any.whl (93 kB)\n",
      "  Using cached google_api_core-1.31.5-py2.py3-none-any.whl (93 kB)\n",
      "  Using cached google_api_core-1.31.4-py2.py3-none-any.whl (93 kB)\n",
      "INFO: pip is still looking at multiple versions of google-api-core[grpc] to determine which version is compatible with other requirements. This could take a while.\n",
      "  Using cached google_api_core-1.31.3-py2.py3-none-any.whl (93 kB)\n",
      "  Using cached google_api_core-1.31.2-py2.py3-none-any.whl (93 kB)\n",
      "  Using cached google_api_core-1.31.1-py2.py3-none-any.whl (93 kB)\n",
      "  Using cached google_api_core-1.31.0-py2.py3-none-any.whl (93 kB)\n",
      "  Using cached google_api_core-1.30.0-py2.py3-none-any.whl (93 kB)\n",
      "INFO: This is taking longer than usual. You might need to provide the dependency resolver with stricter constraints to reduce runtime. See https://pip.pypa.io/warnings/backtracking for guidance. If you want to abort this run, press Ctrl + C.\n",
      "  Using cached google_api_core-1.29.0-py2.py3-none-any.whl (93 kB)\n",
      "  Using cached google_api_core-1.28.0-py2.py3-none-any.whl (92 kB)\n",
      "  Using cached google_api_core-1.27.0-py2.py3-none-any.whl (93 kB)\n",
      "  Using cached google_api_core-1.26.3-py2.py3-none-any.whl (93 kB)\n",
      "  Using cached google_api_core-1.26.2-py2.py3-none-any.whl (93 kB)\n",
      "  Using cached google_api_core-1.26.1-py2.py3-none-any.whl (92 kB)\n",
      "  Using cached google_api_core-1.26.0-py2.py3-none-any.whl (92 kB)\n",
      "  Using cached google_api_core-1.25.1-py2.py3-none-any.whl (92 kB)\n",
      "  Using cached google_api_core-1.25.0-py2.py3-none-any.whl (92 kB)\n",
      "  Using cached google_api_core-1.24.1-py2.py3-none-any.whl (92 kB)\n",
      "  Using cached google_api_core-1.24.0-py2.py3-none-any.whl (91 kB)\n",
      "  Using cached google_api_core-1.23.0-py2.py3-none-any.whl (91 kB)\n",
      "  Using cached google_api_core-1.22.4-py2.py3-none-any.whl (91 kB)\n",
      "  Using cached google_api_core-1.22.3-py2.py3-none-any.whl (91 kB)\n",
      "  Using cached google_api_core-1.22.2-py2.py3-none-any.whl (91 kB)\n",
      "  Using cached google_api_core-1.22.1-py2.py3-none-any.whl (91 kB)\n"
     ]
    },
    {
     "name": "stdout",
     "output_type": "stream",
     "text": [
      "  Using cached google_api_core-1.22.0-py2.py3-none-any.whl (91 kB)\n",
      "Requirement already satisfied: grpcio<2.0dev,>=1.29.0 in /tmpfs/src/tf_docs_env/lib/python3.9/site-packages (from google-api-core==1.21.0->tensorflow-quantum==0.7.2) (1.58.0rc1)\n",
      "Requirement already satisfied: contourpy>=1.0.1 in /tmpfs/src/tf_docs_env/lib/python3.9/site-packages (from matplotlib~=3.0->cirq-core==0.13.1->tensorflow-quantum==0.7.2) (1.1.0)\n",
      "Requirement already satisfied: cycler>=0.10 in /tmpfs/src/tf_docs_env/lib/python3.9/site-packages (from matplotlib~=3.0->cirq-core==0.13.1->tensorflow-quantum==0.7.2) (0.11.0)\n",
      "Requirement already satisfied: fonttools>=4.22.0 in /tmpfs/src/tf_docs_env/lib/python3.9/site-packages (from matplotlib~=3.0->cirq-core==0.13.1->tensorflow-quantum==0.7.2) (4.42.1)\n",
      "Requirement already satisfied: kiwisolver>=1.0.1 in /tmpfs/src/tf_docs_env/lib/python3.9/site-packages (from matplotlib~=3.0->cirq-core==0.13.1->tensorflow-quantum==0.7.2) (1.4.5)\n",
      "Requirement already satisfied: packaging>=20.0 in /tmpfs/src/tf_docs_env/lib/python3.9/site-packages (from matplotlib~=3.0->cirq-core==0.13.1->tensorflow-quantum==0.7.2) (23.1)\n",
      "Requirement already satisfied: pillow>=6.2.0 in /tmpfs/src/tf_docs_env/lib/python3.9/site-packages (from matplotlib~=3.0->cirq-core==0.13.1->tensorflow-quantum==0.7.2) (10.0.0)\n",
      "Requirement already satisfied: pyparsing<3.1,>=2.3.1 in /tmpfs/src/tf_docs_env/lib/python3.9/site-packages (from matplotlib~=3.0->cirq-core==0.13.1->tensorflow-quantum==0.7.2) (3.0.9)\n",
      "Requirement already satisfied: python-dateutil>=2.7 in /tmpfs/src/tf_docs_env/lib/python3.9/site-packages (from matplotlib~=3.0->cirq-core==0.13.1->tensorflow-quantum==0.7.2) (2.8.2)\n",
      "Requirement already satisfied: importlib-resources>=3.2.0 in /tmpfs/src/tf_docs_env/lib/python3.9/site-packages (from matplotlib~=3.0->cirq-core==0.13.1->tensorflow-quantum==0.7.2) (6.0.1)\n",
      "Requirement already satisfied: pyasn1<0.6.0,>=0.4.6 in /tmpfs/src/tf_docs_env/lib/python3.9/site-packages (from pyasn1-modules>=0.2.1->google-auth==1.18.0->tensorflow-quantum==0.7.2) (0.5.0)\n",
      "Requirement already satisfied: charset-normalizer<4,>=2 in /tmpfs/src/tf_docs_env/lib/python3.9/site-packages (from requests<3.0.0dev,>=2.18.0->google-api-core==1.21.0->tensorflow-quantum==0.7.2) (3.2.0)\n",
      "Requirement already satisfied: idna<4,>=2.5 in /tmpfs/src/tf_docs_env/lib/python3.9/site-packages (from requests<3.0.0dev,>=2.18.0->google-api-core==1.21.0->tensorflow-quantum==0.7.2) (3.4)\n",
      "Requirement already satisfied: urllib3<3,>=1.21.1 in /tmpfs/src/tf_docs_env/lib/python3.9/site-packages (from requests<3.0.0dev,>=2.18.0->google-api-core==1.21.0->tensorflow-quantum==0.7.2) (1.26.16)\n",
      "Requirement already satisfied: certifi>=2017.4.17 in /tmpfs/src/tf_docs_env/lib/python3.9/site-packages (from requests<3.0.0dev,>=2.18.0->google-api-core==1.21.0->tensorflow-quantum==0.7.2) (2023.7.22)\n",
      "Requirement already satisfied: tzdata>=2022.1 in /tmpfs/src/tf_docs_env/lib/python3.9/site-packages (from pandas->cirq-core==0.13.1->tensorflow-quantum==0.7.2) (2023.3)\n",
      "Requirement already satisfied: zipp>=3.1.0 in /tmpfs/src/tf_docs_env/lib/python3.9/site-packages (from importlib-resources>=3.2.0->matplotlib~=3.0->cirq-core==0.13.1->tensorflow-quantum==0.7.2) (3.16.2)\n",
      "Using cached duet-0.2.9-py3-none-any.whl (29 kB)\n",
      "Installing collected packages: sortedcontainers, mpmath, sympy, protobuf, networkx, duet, cachetools, googleapis-common-protos, google-auth, google-api-core, cirq-core, cirq-google, tensorflow-quantum\n",
      "  Attempting uninstall: protobuf\n",
      "    Found existing installation: protobuf 3.20.3\n",
      "    Uninstalling protobuf-3.20.3:\n",
      "      Successfully uninstalled protobuf-3.20.3\n",
      "  Attempting uninstall: networkx\n",
      "    Found existing installation: networkx 3.1\n",
      "    Uninstalling networkx-3.1:\n",
      "      Successfully uninstalled networkx-3.1\n",
      "  Attempting uninstall: cachetools\n",
      "    Found existing installation: cachetools 5.3.1\n",
      "    Uninstalling cachetools-5.3.1:\n",
      "      Successfully uninstalled cachetools-5.3.1\n",
      "  Attempting uninstall: googleapis-common-protos\n",
      "    Found existing installation: googleapis-common-protos 1.60.0\n",
      "    Uninstalling googleapis-common-protos-1.60.0:\n",
      "      Successfully uninstalled googleapis-common-protos-1.60.0\n",
      "  Attempting uninstall: google-auth\n",
      "    Found existing installation: google-auth 2.22.0\n",
      "    Uninstalling google-auth-2.22.0:\n",
      "      Successfully uninstalled google-auth-2.22.0\n",
      "\u001b[31mERROR: pip's dependency resolver does not currently take into account all the packages that are installed. This behaviour is the source of the following dependency conflicts.\n",
      "google-auth-oauthlib 1.0.0 requires google-auth>=2.15.0, but you have google-auth 1.18.0 which is incompatible.\n",
      "tensorboard 2.14.0 requires protobuf>=3.19.6, but you have protobuf 3.17.3 which is incompatible.\n",
      "tensorflow-datasets 4.9.2 requires protobuf>=3.20, but you have protobuf 3.17.3 which is incompatible.\n",
      "tensorflow-hub 0.14.0 requires protobuf>=3.19.6, but you have protobuf 3.17.3 which is incompatible.\n",
      "tensorflow-metadata 1.14.0 requires protobuf<4.21,>=3.20.3, but you have protobuf 3.17.3 which is incompatible.\u001b[0m\u001b[31m\n",
      "\u001b[0mSuccessfully installed cachetools-4.2.4 cirq-core-0.13.1 cirq-google-0.13.1 duet-0.2.9 google-api-core-1.21.0 google-auth-1.18.0 googleapis-common-protos-1.52.0 mpmath-1.3.0 networkx-2.8.8 protobuf-3.17.3 sortedcontainers-2.4.0 sympy-1.8 tensorflow-quantum-0.7.2\n"
     ]
    }
   ],
   "source": [
    "!pip install tensorflow-quantum==0.7.2"
   ]
  },
  {
   "cell_type": "code",
   "execution_count": 4,
   "metadata": {
    "colab": {},
    "colab_type": "code",
    "execution": {
     "iopub.execute_input": "2023-08-28T11:17:36.006906Z",
     "iopub.status.busy": "2023-08-28T11:17:36.006186Z",
     "iopub.status.idle": "2023-08-28T11:17:36.056235Z",
     "shell.execute_reply": "2023-08-28T11:17:36.055606Z"
    },
    "id": "4Ql5PW-ACO0J"
   },
   "outputs": [
    {
     "data": {
      "text/plain": [
       "<module 'pkg_resources' from '/tmpfs/src/tf_docs_env/lib/python3.9/site-packages/pkg_resources/__init__.py'>"
      ]
     },
     "execution_count": 4,
     "metadata": {},
     "output_type": "execute_result"
    }
   ],
   "source": [
    "# Update package resources to account for version changes.\n",
    "import importlib, pkg_resources\n",
    "importlib.reload(pkg_resources)"
   ]
  },
  {
   "cell_type": "markdown",
   "metadata": {
    "colab_type": "text",
    "id": "MkTqyoSxGUfB"
   },
   "source": [
    "Now import TensorFlow and the module dependencies:"
   ]
  },
  {
   "cell_type": "code",
   "execution_count": 5,
   "metadata": {
    "colab": {},
    "colab_type": "code",
    "execution": {
     "iopub.execute_input": "2023-08-28T11:17:36.059553Z",
     "iopub.status.busy": "2023-08-28T11:17:36.059010Z",
     "iopub.status.idle": "2023-08-28T11:17:39.764138Z",
     "shell.execute_reply": "2023-08-28T11:17:39.763209Z"
    },
    "id": "enZ300Bflq80"
   },
   "outputs": [
    {
     "name": "stderr",
     "output_type": "stream",
     "text": [
      "2023-08-28 11:17:39.704046: E tensorflow/stream_executor/cuda/cuda_driver.cc:271] failed call to cuInit: CUDA_ERROR_NO_DEVICE: no CUDA-capable device is detected\n"
     ]
    }
   ],
   "source": [
    "import tensorflow as tf\n",
    "import tensorflow_quantum as tfq\n",
    "\n",
    "import cirq\n",
    "import sympy\n",
    "import numpy as np\n",
    "\n",
    "# visualization tools\n",
    "%matplotlib inline\n",
    "import matplotlib.pyplot as plt\n",
    "from cirq.contrib.svg import SVGCircuit"
   ]
  },
  {
   "cell_type": "markdown",
   "metadata": {
    "colab_type": "text",
    "id": "b08Mmbs8lr81"
   },
   "source": [
    "## 1. Preliminary\n",
    "\n",
    "Let's make the notion of gradient calculation for quantum circuits a little more concrete. Suppose you have a parameterized circuit like this one:"
   ]
  },
  {
   "cell_type": "code",
   "execution_count": 6,
   "metadata": {
    "colab": {},
    "colab_type": "code",
    "execution": {
     "iopub.execute_input": "2023-08-28T11:17:39.768919Z",
     "iopub.status.busy": "2023-08-28T11:17:39.767809Z",
     "iopub.status.idle": "2023-08-28T11:17:39.817334Z",
     "shell.execute_reply": "2023-08-28T11:17:39.816711Z"
    },
    "id": "YkPYJ_Ak-GKu"
   },
   "outputs": [
    {
     "name": "stderr",
     "output_type": "stream",
     "text": [
      "findfont: Font family 'Arial' not found.\n",
      "findfont: Font family 'Arial' not found.\n"
     ]
    },
    {
     "data": {
      "image/svg+xml": [
       "<svg xmlns=\"http://www.w3.org/2000/svg\" width=\"197.3653515625\" height=\"50.0\"><line x1=\"34.7588671875\" x2=\"167.3653515625\" y1=\"25.0\" y2=\"25.0\" stroke=\"#1967d2\" stroke-width=\"1\" /><rect x=\"10.0\" y=\"5.0\" width=\"49.517734375\" height=\"40\" stroke=\"black\" fill=\"white\" stroke-width=\"0\" /><text x=\"34.7588671875\" y=\"25.0\" dominant-baseline=\"middle\" text-anchor=\"middle\" font-size=\"14px\" font-family=\"Arial\">(0, 0): </text><rect x=\"79.517734375\" y=\"5.0\" width=\"67.8476171875\" height=\"40\" stroke=\"black\" fill=\"white\" stroke-width=\"1\" /><text x=\"113.44154296875001\" y=\"25.0\" dominant-baseline=\"middle\" text-anchor=\"middle\" font-size=\"14px\" font-family=\"Arial\">Y^alpha</text></svg>"
      ],
      "text/plain": [
       "<cirq.contrib.svg.svg.SVGCircuit at 0x7f4ae01cdbe0>"
      ]
     },
     "execution_count": 6,
     "metadata": {},
     "output_type": "execute_result"
    }
   ],
   "source": [
    "qubit = cirq.GridQubit(0, 0)\n",
    "my_circuit = cirq.Circuit(cirq.Y(qubit)**sympy.Symbol('alpha'))\n",
    "SVGCircuit(my_circuit)"
   ]
  },
  {
   "cell_type": "markdown",
   "metadata": {
    "colab_type": "text",
    "id": "wgQIlCWy-MVr"
   },
   "source": [
    "Along with an observable:"
   ]
  },
  {
   "cell_type": "code",
   "execution_count": 7,
   "metadata": {
    "colab": {},
    "colab_type": "code",
    "execution": {
     "iopub.execute_input": "2023-08-28T11:17:39.820842Z",
     "iopub.status.busy": "2023-08-28T11:17:39.820321Z",
     "iopub.status.idle": "2023-08-28T11:17:39.825135Z",
     "shell.execute_reply": "2023-08-28T11:17:39.824511Z"
    },
    "id": "xurmJdFy-Jae"
   },
   "outputs": [
    {
     "data": {
      "text/plain": [
       "cirq.X(cirq.GridQubit(0, 0))"
      ]
     },
     "execution_count": 7,
     "metadata": {},
     "output_type": "execute_result"
    }
   ],
   "source": [
    "pauli_x = cirq.X(qubit)\n",
    "pauli_x"
   ]
  },
  {
   "cell_type": "markdown",
   "metadata": {
    "colab_type": "text",
    "id": "j3OzKYe5NT_W"
   },
   "source": [
    "Looking at this operator you know that $⟨Y(\\alpha)| X | Y(\\alpha)⟩ = \\sin(\\pi \\alpha)$"
   ]
  },
  {
   "cell_type": "code",
   "execution_count": 8,
   "metadata": {
    "colab": {},
    "colab_type": "code",
    "execution": {
     "iopub.execute_input": "2023-08-28T11:17:39.829080Z",
     "iopub.status.busy": "2023-08-28T11:17:39.828473Z",
     "iopub.status.idle": "2023-08-28T11:17:39.837432Z",
     "shell.execute_reply": "2023-08-28T11:17:39.836725Z"
    },
    "id": "Ps-pd2mndXs7"
   },
   "outputs": [
    {
     "name": "stdout",
     "output_type": "stream",
     "text": [
      "Expectation= 0.80901700258255\n",
      "Sin Formula= 0.8090169943749475\n"
     ]
    }
   ],
   "source": [
    "def my_expectation(op, alpha):\n",
    "    \"\"\"Compute ⟨Y(alpha)| `op` | Y(alpha)⟩\"\"\"\n",
    "    params = {'alpha': alpha}\n",
    "    sim = cirq.Simulator()\n",
    "    final_state_vector = sim.simulate(my_circuit, params).final_state_vector\n",
    "    return op.expectation_from_state_vector(final_state_vector, {qubit: 0}).real\n",
    "\n",
    "\n",
    "my_alpha = 0.3\n",
    "print(\"Expectation=\", my_expectation(pauli_x, my_alpha))\n",
    "print(\"Sin Formula=\", np.sin(np.pi * my_alpha))"
   ]
  },
  {
   "cell_type": "markdown",
   "metadata": {
    "colab_type": "text",
    "id": "zcCX109cJUaz"
   },
   "source": [
    " and if you define $f_{1}(\\alpha) = ⟨Y(\\alpha)| X | Y(\\alpha)⟩$ then $f_{1}^{'}(\\alpha) = \\pi \\cos(\\pi \\alpha)$. Let's check this:"
   ]
  },
  {
   "cell_type": "code",
   "execution_count": 9,
   "metadata": {
    "colab": {},
    "colab_type": "code",
    "execution": {
     "iopub.execute_input": "2023-08-28T11:17:39.840930Z",
     "iopub.status.busy": "2023-08-28T11:17:39.840356Z",
     "iopub.status.idle": "2023-08-28T11:17:39.847330Z",
     "shell.execute_reply": "2023-08-28T11:17:39.846680Z"
    },
    "id": "VMq7EayNRyQb"
   },
   "outputs": [
    {
     "name": "stdout",
     "output_type": "stream",
     "text": [
      "Finite difference: 1.8063604831695557\n",
      "Cosine formula:    1.8465818304904567\n"
     ]
    }
   ],
   "source": [
    "def my_grad(obs, alpha, eps=0.01):\n",
    "    grad = 0\n",
    "    f_x = my_expectation(obs, alpha)\n",
    "    f_x_prime = my_expectation(obs, alpha + eps)\n",
    "    return ((f_x_prime - f_x) / eps).real\n",
    "\n",
    "\n",
    "print('Finite difference:', my_grad(pauli_x, my_alpha))\n",
    "print('Cosine formula:   ', np.pi * np.cos(np.pi * my_alpha))"
   ]
  },
  {
   "cell_type": "markdown",
   "metadata": {
    "colab_type": "text",
    "id": "-SUlLpXBeicF"
   },
   "source": [
    "## 2. The need for a differentiator\n",
    "\n",
    "With larger circuits, you won't always be so lucky to have a formula that precisely calculates the gradients of a given quantum circuit. In the event that a simple formula isn't enough to calculate the gradient, the `tfq.differentiators.Differentiator` class allows you to define algorithms for computing the gradients of your circuits. For instance you can recreate the above example in TensorFlow Quantum (TFQ) with:"
   ]
  },
  {
   "cell_type": "code",
   "execution_count": 10,
   "metadata": {
    "colab": {},
    "colab_type": "code",
    "execution": {
     "iopub.execute_input": "2023-08-28T11:17:39.850630Z",
     "iopub.status.busy": "2023-08-28T11:17:39.850070Z",
     "iopub.status.idle": "2023-08-28T11:17:39.878529Z",
     "shell.execute_reply": "2023-08-28T11:17:39.877866Z"
    },
    "id": "Om76ZLu8NT_i"
   },
   "outputs": [
    {
     "data": {
      "text/plain": [
       "<tf.Tensor: shape=(1, 1), dtype=float32, numpy=array([[0.80901706]], dtype=float32)>"
      ]
     },
     "execution_count": 10,
     "metadata": {},
     "output_type": "execute_result"
    }
   ],
   "source": [
    "expectation_calculation = tfq.layers.Expectation(\n",
    "    differentiator=tfq.differentiators.ForwardDifference(grid_spacing=0.01))\n",
    "\n",
    "expectation_calculation(my_circuit,\n",
    "                        operators=pauli_x,\n",
    "                        symbol_names=['alpha'],\n",
    "                        symbol_values=[[my_alpha]])"
   ]
  },
  {
   "cell_type": "markdown",
   "metadata": {
    "colab_type": "text",
    "id": "lx3y2DX9NT_k"
   },
   "source": [
    "However, if you switch to estimating expectation based on sampling (what would happen on a true device) the values can change a little bit. This means you now have an imperfect estimate:"
   ]
  },
  {
   "cell_type": "code",
   "execution_count": 11,
   "metadata": {
    "colab": {},
    "colab_type": "code",
    "execution": {
     "iopub.execute_input": "2023-08-28T11:17:39.881946Z",
     "iopub.status.busy": "2023-08-28T11:17:39.881372Z",
     "iopub.status.idle": "2023-08-28T11:17:39.897804Z",
     "shell.execute_reply": "2023-08-28T11:17:39.897143Z"
    },
    "id": "v27rRyAHNT_l"
   },
   "outputs": [
    {
     "data": {
      "text/plain": [
       "<tf.Tensor: shape=(1, 1), dtype=float32, numpy=array([[0.808]], dtype=float32)>"
      ]
     },
     "execution_count": 11,
     "metadata": {},
     "output_type": "execute_result"
    }
   ],
   "source": [
    "sampled_expectation_calculation = tfq.layers.SampledExpectation(\n",
    "    differentiator=tfq.differentiators.ForwardDifference(grid_spacing=0.01))\n",
    "\n",
    "sampled_expectation_calculation(my_circuit,\n",
    "                                operators=pauli_x,\n",
    "                                repetitions=500,\n",
    "                                symbol_names=['alpha'],\n",
    "                                symbol_values=[[my_alpha]])"
   ]
  },
  {
   "cell_type": "markdown",
   "metadata": {
    "colab_type": "text",
    "id": "Igwa3EnzNT_p"
   },
   "source": [
    "This can quickly compound into a serious accuracy problem when it comes to gradients:"
   ]
  },
  {
   "cell_type": "code",
   "execution_count": 12,
   "metadata": {
    "colab": {},
    "colab_type": "code",
    "execution": {
     "iopub.execute_input": "2023-08-28T11:17:39.901187Z",
     "iopub.status.busy": "2023-08-28T11:17:39.900719Z",
     "iopub.status.idle": "2023-08-28T11:17:40.242755Z",
     "shell.execute_reply": "2023-08-28T11:17:40.242111Z"
    },
    "id": "StljXH38NT_q"
   },
   "outputs": [
    {
     "data": {
      "text/plain": [
       "<matplotlib.legend.Legend at 0x7f4ae00bcf70>"
      ]
     },
     "execution_count": 12,
     "metadata": {},
     "output_type": "execute_result"
    },
    {
     "data": {
      "image/png": "[encoded data removed]",
      "text/plain": [
       "<Figure size 640x480 with 1 Axes>"
      ]
     },
     "metadata": {},
     "output_type": "display_data"
    }
   ],
   "source": [
    "# Make input_points = [batch_size, 1] array.\n",
    "input_points = np.linspace(0, 5, 200)[:, np.newaxis].astype(np.float32)\n",
    "exact_outputs = expectation_calculation(my_circuit,\n",
    "                                        operators=pauli_x,\n",
    "                                        symbol_names=['alpha'],\n",
    "                                        symbol_values=input_points)\n",
    "imperfect_outputs = sampled_expectation_calculation(my_circuit,\n",
    "                                                    operators=pauli_x,\n",
    "                                                    repetitions=500,\n",
    "                                                    symbol_names=['alpha'],\n",
    "                                                    symbol_values=input_points)\n",
    "plt.title('Forward Pass Values')\n",
    "plt.xlabel('$x$')\n",
    "plt.ylabel('$f(x)$')\n",
    "plt.plot(input_points, exact_outputs, label='Analytic')\n",
    "plt.plot(input_points, imperfect_outputs, label='Sampled')\n",
    "plt.legend()"
   ]
  },
  {
   "cell_type": "code",
   "execution_count": 13,
   "metadata": {
    "colab": {},
    "colab_type": "code",
    "execution": {
     "iopub.execute_input": "2023-08-28T11:17:40.246182Z",
     "iopub.status.busy": "2023-08-28T11:17:40.245597Z",
     "iopub.status.idle": "2023-08-28T11:17:41.630428Z",
     "shell.execute_reply": "2023-08-28T11:17:41.629710Z"
    },
    "id": "dfXObk7KNT_t"
   },
   "outputs": [
    {
     "data": {
      "text/plain": [
       "<matplotlib.legend.Legend at 0x7f4ae01d27c0>"
      ]
     },
     "execution_count": 13,
     "metadata": {},
     "output_type": "execute_result"
    },
    {
     "data": {
      "image/png": "[encoded data removed]",
      "text/plain": [
       "<Figure size 640x480 with 1 Axes>"
      ]
     },
     "metadata": {},
     "output_type": "display_data"
    }
   ],
   "source": [
    "# Gradients are a much different story.\n",
    "values_tensor = tf.convert_to_tensor(input_points)\n",
    "\n",
    "with tf.GradientTape() as g:\n",
    "    g.watch(values_tensor)\n",
    "    exact_outputs = expectation_calculation(my_circuit,\n",
    "                                            operators=pauli_x,\n",
    "                                            symbol_names=['alpha'],\n",
    "                                            symbol_values=values_tensor)\n",
    "analytic_finite_diff_gradients = g.gradient(exact_outputs, values_tensor)\n",
    "\n",
    "with tf.GradientTape() as g:\n",
    "    g.watch(values_tensor)\n",
    "    imperfect_outputs = sampled_expectation_calculation(\n",
    "        my_circuit,\n",
    "        operators=pauli_x,\n",
    "        repetitions=500,\n",
    "        symbol_names=['alpha'],\n",
    "        symbol_values=values_tensor)\n",
    "sampled_finite_diff_gradients = g.gradient(imperfect_outputs, values_tensor)\n",
    "\n",
    "plt.title('Gradient Values')\n",
    "plt.xlabel('$x$')\n",
    "plt.ylabel('$f^{\\'}(x)$')\n",
    "plt.plot(input_points, analytic_finite_diff_gradients, label='Analytic')\n",
    "plt.plot(input_points, sampled_finite_diff_gradients, label='Sampled')\n",
    "plt.legend()"
   ]
  },
  {
   "cell_type": "markdown",
   "metadata": {
    "colab_type": "text",
    "id": "Ld34TJvTNT_w"
   },
   "source": [
    "Here you can see that although the finite difference formula is fast to compute the gradients themselves in the analytical case, when it came to the sampling based methods it was far too noisy. More careful techniques must be used to ensure a good gradient can be calculated. Next you will look at a much slower technique that wouldn't be as well suited for analytical expectation gradient calculations, but does perform much better in the real-world sample based case:"
   ]
  },
  {
   "cell_type": "code",
   "execution_count": 14,
   "metadata": {
    "colab": {},
    "colab_type": "code",
    "execution": {
     "iopub.execute_input": "2023-08-28T11:17:41.634264Z",
     "iopub.status.busy": "2023-08-28T11:17:41.633627Z",
     "iopub.status.idle": "2023-08-28T11:17:42.573327Z",
     "shell.execute_reply": "2023-08-28T11:17:42.572628Z"
    },
    "id": "JsBxH_RaNT_x"
   },
   "outputs": [
    {
     "data": {
      "text/plain": [
       "<matplotlib.legend.Legend at 0x7f49a533b790>"
      ]
     },
     "execution_count": 14,
     "metadata": {},
     "output_type": "execute_result"
    },
    {
     "data": {
      "image/png": "[encoded data removed]",
      "text/plain": [
       "<Figure size 640x480 with 1 Axes>"
      ]
     },
     "metadata": {},
     "output_type": "display_data"
    }
   ],
   "source": [
    "# A smarter differentiation scheme.\n",
    "gradient_safe_sampled_expectation = tfq.layers.SampledExpectation(\n",
    "    differentiator=tfq.differentiators.ParameterShift())\n",
    "\n",
    "with tf.GradientTape() as g:\n",
    "    g.watch(values_tensor)\n",
    "    imperfect_outputs = gradient_safe_sampled_expectation(\n",
    "        my_circuit,\n",
    "        operators=pauli_x,\n",
    "        repetitions=500,\n",
    "        symbol_names=['alpha'],\n",
    "        symbol_values=values_tensor)\n",
    "\n",
    "sampled_param_shift_gradients = g.gradient(imperfect_outputs, values_tensor)\n",
    "\n",
    "plt.title('Gradient Values')\n",
    "plt.xlabel('$x$')\n",
    "plt.ylabel('$f^{\\'}(x)$')\n",
    "plt.plot(input_points, analytic_finite_diff_gradients, label='Analytic')\n",
    "plt.plot(input_points, sampled_param_shift_gradients, label='Sampled')\n",
    "plt.legend()"
   ]
  },
  {
   "cell_type": "markdown",
   "metadata": {
    "colab_type": "text",
    "id": "0xlUlh8wNT_z"
   },
   "source": [
    "From the above you can see that certain differentiators are best used for particular research scenarios. In general, the slower sample-based methods that are robust to device noise, etc., are great differentiators when testing or implementing algorithms in a more \"real world\" setting. Faster methods like finite difference are great for analytical calculations and you want higher throughput, but aren't yet concerned with the device viability of your algorithm."
   ]
  },
  {
   "cell_type": "markdown",
   "metadata": {
    "colab_type": "text",
    "id": "FaijzZ4MNT_0"
   },
   "source": [
    "## 3. Multiple observables\n",
    "\n",
    "Let's introduce a second observable and see how TensorFlow Quantum supports multiple observables for a single circuit."
   ]
  },
  {
   "cell_type": "code",
   "execution_count": 15,
   "metadata": {
    "colab": {},
    "colab_type": "code",
    "execution": {
     "iopub.execute_input": "2023-08-28T11:17:42.577011Z",
     "iopub.status.busy": "2023-08-28T11:17:42.576473Z",
     "iopub.status.idle": "2023-08-28T11:17:42.581233Z",
     "shell.execute_reply": "2023-08-28T11:17:42.580594Z"
    },
    "id": "ytgB_DqDNT_3"
   },
   "outputs": [
    {
     "data": {
      "text/plain": [
       "cirq.Z(cirq.GridQubit(0, 0))"
      ]
     },
     "execution_count": 15,
     "metadata": {},
     "output_type": "execute_result"
    }
   ],
   "source": [
    "pauli_z = cirq.Z(qubit)\n",
    "pauli_z"
   ]
  },
  {
   "cell_type": "markdown",
   "metadata": {
    "colab_type": "text",
    "id": "r51TZls4NT_6"
   },
   "source": [
    "If this observable is used with the same circuit as before, then you have $f_{2}(\\alpha) = ⟨Y(\\alpha)| Z | Y(\\alpha)⟩ = \\cos(\\pi \\alpha)$ and $f_{2}^{'}(\\alpha) = -\\pi \\sin(\\pi \\alpha)$. Perform a quick check:"
   ]
  },
  {
   "cell_type": "code",
   "execution_count": 16,
   "metadata": {
    "colab": {},
    "colab_type": "code",
    "execution": {
     "iopub.execute_input": "2023-08-28T11:17:42.584484Z",
     "iopub.status.busy": "2023-08-28T11:17:42.583973Z",
     "iopub.status.idle": "2023-08-28T11:17:42.590516Z",
     "shell.execute_reply": "2023-08-28T11:17:42.589857Z"
    },
    "id": "19FKgu0ANT_7"
   },
   "outputs": [
    {
     "name": "stdout",
     "output_type": "stream",
     "text": [
      "Finite difference: -0.04934072494506836\n",
      "Sin formula:       -0.0\n"
     ]
    }
   ],
   "source": [
    "test_value = 0.\n",
    "\n",
    "print('Finite difference:', my_grad(pauli_z, test_value))\n",
    "print('Sin formula:      ', -np.pi * np.sin(np.pi * test_value))"
   ]
  },
  {
   "cell_type": "markdown",
   "metadata": {
    "colab_type": "text",
    "id": "_33Y5mL0NT_-"
   },
   "source": [
    "It's a match (close enough).\n",
    "\n",
    "Now if you define $g(\\alpha) = f_{1}(\\alpha) + f_{2}(\\alpha)$ then $g'(\\alpha) = f_{1}^{'}(\\alpha) + f^{'}_{2}(\\alpha)$. Defining more than one observable in TensorFlow Quantum to use along with a circuit is equivalent to adding on more terms to $g$.\n",
    "\n",
    "This means that the gradient of a particular symbol in a circuit is equal to the sum of the gradients with regards to each observable for that symbol applied to that circuit. This is compatible with TensorFlow gradient taking and backpropagation (where you give the sum of the gradients over all observables as the gradient for a particular symbol)."
   ]
  },
  {
   "cell_type": "code",
   "execution_count": 17,
   "metadata": {
    "colab": {},
    "colab_type": "code",
    "execution": {
     "iopub.execute_input": "2023-08-28T11:17:42.593846Z",
     "iopub.status.busy": "2023-08-28T11:17:42.593267Z",
     "iopub.status.idle": "2023-08-28T11:17:42.610056Z",
     "shell.execute_reply": "2023-08-28T11:17:42.609390Z"
    },
    "id": "3WFJfFEbNT_-"
   },
   "outputs": [
    {
     "data": {
      "text/plain": [
       "<tf.Tensor: shape=(1, 2), dtype=float32, numpy=array([[1.9106855e-15, 1.0000000e+00]], dtype=float32)>"
      ]
     },
     "execution_count": 17,
     "metadata": {},
     "output_type": "execute_result"
    }
   ],
   "source": [
    "sum_of_outputs = tfq.layers.Expectation(\n",
    "    differentiator=tfq.differentiators.ForwardDifference(grid_spacing=0.01))\n",
    "\n",
    "sum_of_outputs(my_circuit,\n",
    "               operators=[pauli_x, pauli_z],\n",
    "               symbol_names=['alpha'],\n",
    "               symbol_values=[[test_value]])"
   ]
  },
  {
   "cell_type": "markdown",
   "metadata": {
    "colab_type": "text",
    "id": "-ujQUu3WNUAB"
   },
   "source": [
    "Here you see the first entry is the expectation w.r.t Pauli X, and the second is the expectation w.r.t Pauli Z. Now when you take the gradient:"
   ]
  },
  {
   "cell_type": "code",
   "execution_count": 18,
   "metadata": {
    "colab": {},
    "colab_type": "code",
    "execution": {
     "iopub.execute_input": "2023-08-28T11:17:42.613290Z",
     "iopub.status.busy": "2023-08-28T11:17:42.612824Z",
     "iopub.status.idle": "2023-08-28T11:17:42.845585Z",
     "shell.execute_reply": "2023-08-28T11:17:42.844835Z"
    },
    "id": "jcAQa9l0NUAB"
   },
   "outputs": [
    {
     "name": "stdout",
     "output_type": "stream",
     "text": [
      "3.0917350202798843\n",
      "[[3.0917213]]\n"
     ]
    }
   ],
   "source": [
    "test_value_tensor = tf.convert_to_tensor([[test_value]])\n",
    "\n",
    "with tf.GradientTape() as g:\n",
    "    g.watch(test_value_tensor)\n",
    "    outputs = sum_of_outputs(my_circuit,\n",
    "                             operators=[pauli_x, pauli_z],\n",
    "                             symbol_names=['alpha'],\n",
    "                             symbol_values=test_value_tensor)\n",
    "\n",
    "sum_of_gradients = g.gradient(outputs, test_value_tensor)\n",
    "\n",
    "print(my_grad(pauli_x, test_value) + my_grad(pauli_z, test_value))\n",
    "print(sum_of_gradients.numpy())"
   ]
  },
  {
   "cell_type": "markdown",
   "metadata": {
    "colab_type": "text",
    "id": "-fZmbYGANUAE"
   },
   "source": [
    "Here you have verified that the sum of the gradients for each observable is indeed the gradient of $\\alpha$. This behavior is supported by all TensorFlow Quantum differentiators and plays a crucial role in the compatibility with the rest of TensorFlow."
   ]
  },
  {
   "cell_type": "markdown",
   "metadata": {
    "colab_type": "text",
    "id": "lZsGG7lWNUAF"
   },
   "source": [
    "## 4. Advanced usage\n",
    "All differentiators that exist inside of TensorFlow Quantum subclass `tfq.differentiators.Differentiator`. To implement a differentiator, a user must implement one of two interfaces.  The standard is to implement `get_gradient_circuits`, which tells the base class which circuits to measure to obtain an estimate of the gradient.  Alternatively, you can overload `differentiate_analytic` and `differentiate_sampled`; the class `tfq.differentiators.Adjoint` takes this route.\n",
    "\n",
    "The following uses TensorFlow Quantum to implement the gradient of a circuit.  You will use a small example of parameter shifting."
   ]
  },
  {
   "cell_type": "markdown",
   "metadata": {
    "id": "J1xN6Ln5mB9N"
   },
   "source": [
    "Recall the circuit you defined above, $|\\alpha⟩ = Y^{\\alpha}|0⟩$.  As before, you can define a function as the expectation value of this circuit against the $X$ observable, $f(\\alpha) = ⟨\\alpha|X|\\alpha⟩$.  Using [parameter shift rules](https://pennylane.ai/qml/glossary/parameter_shift.html), for this circuit, you can find that the derivative is\n",
    "$$\\frac{\\partial}{\\partial \\alpha} f(\\alpha) = \\frac{\\pi}{2} f\\left(\\alpha + \\frac{1}{2}\\right) -  \\frac{ \\pi}{2} f\\left(\\alpha - \\frac{1}{2}\\right)$$\n",
    "The `get_gradient_circuits` function returns the components of this derivative."
   ]
  },
  {
   "cell_type": "code",
   "execution_count": 19,
   "metadata": {
    "colab": {},
    "colab_type": "code",
    "execution": {
     "iopub.execute_input": "2023-08-28T11:17:42.849334Z",
     "iopub.status.busy": "2023-08-28T11:17:42.848719Z",
     "iopub.status.idle": "2023-08-28T11:17:42.855455Z",
     "shell.execute_reply": "2023-08-28T11:17:42.854767Z"
    },
    "id": "5iY4q6FKNUAG"
   },
   "outputs": [],
   "source": [
    "class MyDifferentiator(tfq.differentiators.Differentiator):\n",
    "    \"\"\"A Toy differentiator for <Y^alpha | X |Y^alpha>.\"\"\"\n",
    "\n",
    "    def __init__(self):\n",
    "        pass\n",
    "\n",
    "    def get_gradient_circuits(self, programs, symbol_names, symbol_values):\n",
    "        \"\"\"Return circuits to compute gradients for given forward pass circuits.\n",
    "        \n",
    "        Every gradient on a quantum computer can be computed via measurements\n",
    "        of transformed quantum circuits.  Here, you implement a custom gradient\n",
    "        for a specific circuit.  For a real differentiator, you will need to\n",
    "        implement this function in a more general way.  See the differentiator\n",
    "        implementations in the TFQ library for examples.\n",
    "        \"\"\"\n",
    "\n",
    "        # The two terms in the derivative are the same circuit...\n",
    "        batch_programs = tf.stack([programs, programs], axis=1)\n",
    "\n",
    "        # ... with shifted parameter values.\n",
    "        shift = tf.constant(1/2)\n",
    "        forward = symbol_values + shift\n",
    "        backward = symbol_values - shift\n",
    "        batch_symbol_values = tf.stack([forward, backward], axis=1)\n",
    "  \n",
    "        # Weights are the coefficients of the terms in the derivative.\n",
    "        num_program_copies = tf.shape(batch_programs)[0]\n",
    "        batch_weights = tf.tile(tf.constant([[[np.pi/2, -np.pi/2]]]),\n",
    "                                [num_program_copies, 1, 1])\n",
    "\n",
    "        # The index map simply says which weights go with which circuits.\n",
    "        batch_mapper = tf.tile(\n",
    "            tf.constant([[[0, 1]]]), [num_program_copies, 1, 1])\n",
    "\n",
    "        return (batch_programs, symbol_names, batch_symbol_values,\n",
    "                batch_weights, batch_mapper)"
   ]
  },
  {
   "cell_type": "markdown",
   "metadata": {
    "colab_type": "text",
    "id": "bvEgw2m6NUAI"
   },
   "source": [
    "The `Differentiator` base class uses the components returned from `get_gradient_circuits` to calculate the derivative, as in the parameter shift formula you saw above.  This new differentiator can now be used with existing `tfq.layer` objects:"
   ]
  },
  {
   "cell_type": "code",
   "execution_count": 20,
   "metadata": {
    "colab": {},
    "colab_type": "code",
    "execution": {
     "iopub.execute_input": "2023-08-28T11:17:42.858789Z",
     "iopub.status.busy": "2023-08-28T11:17:42.858205Z",
     "iopub.status.idle": "2023-08-28T11:17:43.400030Z",
     "shell.execute_reply": "2023-08-28T11:17:43.399331Z"
    },
    "id": "QrKnkWswNUAJ"
   },
   "outputs": [
    {
     "data": {
      "text/plain": [
       "Text(0.5, 0, 'x')"
      ]
     },
     "execution_count": 20,
     "metadata": {},
     "output_type": "execute_result"
    },
    {
     "data": {
      "image/png": "[encoded data removed]",
      "text/plain": [
       "<Figure size 640x480 with 2 Axes>"
      ]
     },
     "metadata": {},
     "output_type": "display_data"
    }
   ],
   "source": [
    "custom_dif = MyDifferentiator()\n",
    "custom_grad_expectation = tfq.layers.Expectation(differentiator=custom_dif)\n",
    "\n",
    "# Now let's get the gradients with finite diff.\n",
    "with tf.GradientTape() as g:\n",
    "    g.watch(values_tensor)\n",
    "    exact_outputs = expectation_calculation(my_circuit,\n",
    "                                            operators=[pauli_x],\n",
    "                                            symbol_names=['alpha'],\n",
    "                                            symbol_values=values_tensor)\n",
    "\n",
    "analytic_finite_diff_gradients = g.gradient(exact_outputs, values_tensor)\n",
    "\n",
    "# Now let's get the gradients with custom diff.\n",
    "with tf.GradientTape() as g:\n",
    "    g.watch(values_tensor)\n",
    "    my_outputs = custom_grad_expectation(my_circuit,\n",
    "                                         operators=[pauli_x],\n",
    "                                         symbol_names=['alpha'],\n",
    "                                         symbol_values=values_tensor)\n",
    "\n",
    "my_gradients = g.gradient(my_outputs, values_tensor)\n",
    "\n",
    "plt.subplot(1, 2, 1)\n",
    "plt.title('Exact Gradient')\n",
    "plt.plot(input_points, analytic_finite_diff_gradients.numpy())\n",
    "plt.xlabel('x')\n",
    "plt.ylabel('f(x)')\n",
    "plt.subplot(1, 2, 2)\n",
    "plt.title('My Gradient')\n",
    "plt.plot(input_points, my_gradients.numpy())\n",
    "plt.xlabel('x')"
   ]
  },
  {
   "cell_type": "markdown",
   "metadata": {
    "colab_type": "text",
    "id": "oXqcJWigNUAL"
   },
   "source": [
    "This new differentiator can now be used to generate differentiable ops.\n",
    "\n",
    "Key Point: A differentiator that has been previously attached to an op must be refreshed before attaching to a new op, because a differentiator may only be attached to one op at a time."
   ]
  },
  {
   "cell_type": "code",
   "execution_count": 21,
   "metadata": {
    "colab": {},
    "colab_type": "code",
    "execution": {
     "iopub.execute_input": "2023-08-28T11:17:43.403892Z",
     "iopub.status.busy": "2023-08-28T11:17:43.403254Z",
     "iopub.status.idle": "2023-08-28T11:17:43.735543Z",
     "shell.execute_reply": "2023-08-28T11:17:43.734845Z"
    },
    "id": "F_WHcj3bNUAM"
   },
   "outputs": [
    {
     "name": "stdout",
     "output_type": "stream",
     "text": [
      "---TFQ---\n",
      "Foward:   [[0.7944]]\n",
      "Gradient: [[1.7888229]]\n",
      "---Original---\n",
      "Forward:  0.80901700258255\n",
      "Gradient: 1.8063604831695557\n"
     ]
    }
   ],
   "source": [
    "# Create a noisy sample based expectation op.\n",
    "expectation_sampled = tfq.get_sampled_expectation_op(\n",
    "    cirq.DensityMatrixSimulator(noise=cirq.depolarize(0.01)))\n",
    "\n",
    "# Make it differentiable with your differentiator:\n",
    "# Remember to refresh the differentiator before attaching the new op\n",
    "custom_dif.refresh()\n",
    "differentiable_op = custom_dif.generate_differentiable_op(\n",
    "    sampled_op=expectation_sampled)\n",
    "\n",
    "# Prep op inputs.\n",
    "circuit_tensor = tfq.convert_to_tensor([my_circuit])\n",
    "op_tensor = tfq.convert_to_tensor([[pauli_x]])\n",
    "single_value = tf.convert_to_tensor([[my_alpha]])\n",
    "num_samples_tensor = tf.convert_to_tensor([[5000]])\n",
    "\n",
    "with tf.GradientTape() as g:\n",
    "    g.watch(single_value)\n",
    "    forward_output = differentiable_op(circuit_tensor, ['alpha'], single_value,\n",
    "                                       op_tensor, num_samples_tensor)\n",
    "\n",
    "my_gradients = g.gradient(forward_output, single_value)\n",
    "\n",
    "print('---TFQ---')\n",
    "print('Foward:  ', forward_output.numpy())\n",
    "print('Gradient:', my_gradients.numpy())\n",
    "print('---Original---')\n",
    "print('Forward: ', my_expectation(pauli_x, my_alpha))\n",
    "print('Gradient:', my_grad(pauli_x, my_alpha))"
   ]
  },
  {
   "cell_type": "markdown",
   "metadata": {
    "colab_type": "text",
    "id": "OGWcpqzDNUAP"
   },
   "source": [
    "Success: Now you can use all the differentiators that TensorFlow Quantum has to offer—and define your own."
   ]
  }
 ],
 "metadata": {
  "colab": {
   "collapsed_sections": [],
   "name": "gradients.ipynb",
   "private_outputs": true,
   "provenance": [],
   "toc_visible": true
  },
  "kernelspec": {
   "display_name": "Python 3 (ipykernel)",
   "language": "python",
   "name": "python3"
  },
  "language_info": {
   "codemirror_mode": {
    "name": "ipython",
    "version": 3
   },
   "file_extension": ".py",
   "mimetype": "text/x-python",
   "name": "python",
   "nbconvert_exporter": "python",
   "pygments_lexer": "ipython3",
   "version": "3.11.5"
  },
  "vscode": {
   "interpreter": {
    "hash": "916dbcbb3f70747c44a77c7bcd40155683ae19c65e1c03b4aa3499c5328201f1"
   }
  }
 },
 "nbformat": 4,
 "nbformat_minor": 1
}
